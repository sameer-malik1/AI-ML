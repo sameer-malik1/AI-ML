{
 "cells": [
  {
   "cell_type": "markdown",
   "id": "488db9e0",
   "metadata": {},
   "source": [
    "# Bank Management System"
   ]
  },
  {
   "cell_type": "code",
   "execution_count": 1,
   "id": "7fe17c98",
   "metadata": {},
   "outputs": [],
   "source": [
    "from datetime import datetime\n",
    "# Account obj\n",
    "account = {\"accountName\":\"sam\",\"balance\":0,\"transactions\":[]}\n",
    "\n",
    "#function to create account\n",
    "def create_account():\n",
    "    account[\"accountName\"] = input(\"Enter Acconnt holder's name: \")\n",
    "    print(f\"{account['accountName']} 's is created with balance Rs.{account['balance']}\")\n",
    "\n",
    "def deposit_amount():\n",
    "    amount= int(input(\"How much amount you want to deposit?\"))\n",
    "    account[\"balance\"] += amount\n",
    "    depositDate = datetime.now().strftime(\"%Y-%m-%d %H:%M:%S\")\n",
    "    depositRecord = {\"type\":\"deposit\",\"amount\":amount,\"time\":depositDate}\n",
    "    file = open(\"transactions.txt\",\"a\")\n",
    "    file.write(f\"Deposited Rs.{amount} at {depositDate}\\n\")\n",
    "    file.close()\n",
    "    account[\"transactions\"].append(depositRecord)\n",
    "    print(f\"{amount} is deposited in your account.\")\n",
    "    \n",
    "def current_balance():\n",
    "    print(f\"Your current balance is {account['balance']}\")\n",
    "    \n",
    "def withdraw_amount():\n",
    "    withdrawAmount = int(input(\"How much amount you want to withdraw?\"))\n",
    "    if(withdrawAmount <= 0):\n",
    "        print(\"Enter the valid amount\")\n",
    "    elif(withdrawAmount > account['balance']):\n",
    "        print(\"Insufficient balance.\")\n",
    "        \n",
    "    else:\n",
    "        account[\"balance\"] -= withdrawAmount\n",
    "        withdrawDate = datetime.now().strftime(\"%Y-%m-%d %H:%M:%S\")\n",
    "        withdrawRecord = {\"type\":\"withdraw\",\"amount\":withdrawAmount,\"time\":withdrawDate}\n",
    "        file = open(\"transactions.txt\",\"a\")\n",
    "        file.write(f\"Withdrawn Rs.{withdrawAmount} at {withdrawDate}\\n\")\n",
    "        file.close()\n",
    "        account[\"transactions\"].append(withdrawRecord)\n",
    "        print(f\"{withdrawAmount} has been withdrawn from your Account.\")\n",
    "        \n",
    "def show_transaction():\n",
    "    print(f\"{account['accountName']}'s transaction history is:\")\n",
    "    \n",
    "    file = open(\"transactions.txt\",\"r\")\n",
    "    for line in file:\n",
    "        print(line.strip())\n",
    "    file.close()\n",
    "\n",
    "        \n",
    "    "
   ]
  },
  {
   "cell_type": "code",
   "execution_count": 2,
   "id": "fd522081",
   "metadata": {},
   "outputs": [
    {
     "name": "stdout",
     "output_type": "stream",
     "text": [
      "WELCOME TO THE APNA BANK\n",
      "Create Account by pressing A\n",
      "Deposit Amount by pressing B\n",
      "Check Balance by pressing C\n",
      "Withdraw Amount by pressing D\n",
      "Withdraw Amount by pressing S\n",
      "Exit from the process.\n",
      "\n",
      "What do you want?a\n",
      "Enter Acconnt holder's name: Ali\n",
      "Ali 's is created with balance Rs.0\n",
      "What do you want?b\n",
      "How much amount you want to deposit?1000\n",
      "1000 is deposited in your account.\n",
      "What do you want?d\n",
      "How much amount you want to withdraw?300\n",
      "300 has been withdrawn from your Account.\n",
      "What do you want?s\n",
      "Ali's transaction history is:\n",
      "Deposited Rs.5000 at 2025-01-07 20:06:06\n",
      "Deposited Rs.500 at 2025-01-07 20:08:44\n",
      "Deposited Rs.1000 at 2025-01-07 20:10:50\n",
      "Withdrawn Rs.300 at 2025-01-07 20:11:03\n",
      "What do you want?c\n",
      "Your current balance is 700\n",
      "What do you want?e\n"
     ]
    }
   ],
   "source": [
    "flag = True\n",
    "print(\"WELCOME TO THE APNA BANK\")\n",
    "print(\"Create Account by pressing A\")\n",
    "print(\"Deposit Amount by pressing B\")\n",
    "print(\"Check Balance by pressing C\")\n",
    "print(\"Withdraw Amount by pressing D\")\n",
    "print(\"Withdraw Amount by pressing S\")\n",
    "print(\"Exit from the process.\",end='\\n\\n')\n",
    "\n",
    "while(flag):\n",
    "    \n",
    "    option = input(\"What do you want?\")\n",
    "    \n",
    "    if(option == 'A' or option == 'a'):\n",
    "        create_account()\n",
    "    elif(option == 'B' or option == 'b'):\n",
    "        deposit_amount()\n",
    "    elif(option == 'C' or option == 'c'):\n",
    "        current_balance()\n",
    "    elif(option == 'D' or option == 'd'):\n",
    "        withdraw_amount()\n",
    "    elif(option == \"S\" or option == 's'):\n",
    "        show_transaction()\n",
    "    elif(option == 'E' or option == 'e'):\n",
    "        flag = False"
   ]
  },
  {
   "cell_type": "code",
   "execution_count": 4,
   "id": "fd14460f",
   "metadata": {},
   "outputs": [
    {
     "name": "stdout",
     "output_type": "stream",
     "text": [
      "2025-01-07 19:13:05.366620\n",
      "Formatted Date and Time: 2025-01-07 19:13:05\n"
     ]
    }
   ],
   "source": []
  },
  {
   "cell_type": "code",
   "execution_count": null,
   "id": "57f261c0",
   "metadata": {},
   "outputs": [],
   "source": []
  }
 ],
 "metadata": {
  "kernelspec": {
   "display_name": "Python 3 (ipykernel)",
   "language": "python",
   "name": "python3"
  },
  "language_info": {
   "codemirror_mode": {
    "name": "ipython",
    "version": 3
   },
   "file_extension": ".py",
   "mimetype": "text/x-python",
   "name": "python",
   "nbconvert_exporter": "python",
   "pygments_lexer": "ipython3",
   "version": "3.10.9"
  }
 },
 "nbformat": 4,
 "nbformat_minor": 5
}
