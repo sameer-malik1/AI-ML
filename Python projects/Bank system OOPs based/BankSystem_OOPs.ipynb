{
 "cells": [
  {
   "cell_type": "code",
   "execution_count": 1,
   "id": "00029c59",
   "metadata": {},
   "outputs": [],
   "source": [
    "from datetime import datetime \n",
    "class BankAccount:\n",
    "    def __init__(self,account_number,account_holder,balance=0,transactions=[]):\n",
    "        self.account_number = account_number\n",
    "        self.account_holder = account_holder\n",
    "        self.balance = balance\n",
    "        self.transactions = transactions\n",
    "    def deposit_amount(self,amount):\n",
    "        self.balance += amount\n",
    "        depositDate = datetime.now().strftime(\"%Y-%m-%d %H:%M:%S\")\n",
    "        depositRecord = {\"type\":\"deposit\",\"amount\":amount,\"time\":depositDate}\n",
    "#         file = open(\"transactions.txt\",\"a\")\n",
    "#         file.write(f\"Deposited Rs.{amount} at {depositDate}\\n\")\n",
    "#         file.close()\n",
    "        self.transactions.append(depositRecord)\n",
    "        print(f\"{amount} is deposited in your account.\")\n",
    "    def withdraw_amount(self,amount):\n",
    "        if(amount <= 0):\n",
    "            print(\"Enter the valid amount\")\n",
    "        elif(amount > self.balance):\n",
    "            print(\"Insufficient balance.\")\n",
    "\n",
    "        else:\n",
    "            self.balance -= amount\n",
    "            withdrawDate = datetime.now().strftime(\"%Y-%m-%d %H:%M:%S\")\n",
    "            withdrawRecord = {\"type\":\"withdraw\",\"amount\":amount,\"time\":withdrawDate}\n",
    "#             file = open(\"transactions.txt\",\"a\")\n",
    "#             file.write(f\"Withdrawn Rs.{amount} at {withdrawDate}\\n\")\n",
    "#             file.close()\n",
    "            self.transactions.append(withdrawRecord)\n",
    "            print(f\"{amount} has been withdrawn from your Account.\")\n",
    "    def check_balance(self):\n",
    "        print(f\"Your current balance is {self.balance}\")\n",
    "    def show_transaction(self):\n",
    "        print(f\"{self.account_holder}'s transaction history is:\")\n",
    "        \n",
    "        for i in self.transactions:\n",
    "            print(i)\n",
    "\n",
    "#         file = open(\"transactions.txt\",\"r\")\n",
    "#         for line in file:\n",
    "#             print(line.strip())\n",
    "#         file.close()\n",
    "        \n",
    "    def add_transaction(self,description):\n",
    "        pass\n",
    "    \n",
    "\n",
    "        "
   ]
  },
  {
   "cell_type": "code",
   "execution_count": 2,
   "id": "cc133b81",
   "metadata": {},
   "outputs": [],
   "source": [
    "class Bank:\n",
    "    # accounts static variable\n",
    "    accounts = []\n",
    "    def __init__(self):\n",
    "        self.account = None\n",
    "        \n",
    "    def open_account(self,account_holder):\n",
    "        accountObj = BankAccount(\"BA01\",account_holder)\n",
    "        self.account = accountObj\n",
    "        Bank.accounts.append(accountObj)\n",
    "    def get_account_instance(self):\n",
    "        return self.account\n",
    "    \n",
    "    def get_account(self,account_number):\n",
    "        for objs in Bank.accounts:\n",
    "            if(objs.account_number == account_number):\n",
    "                print(f\"Acc Name: {objs.account_holder}\\nAcc Num: {objs.account_number}\\nAcc_Balance: {objs.balance}\")\n",
    "    def get_account_by_num(self,acc):\n",
    "        for account in Bank.accounts:\n",
    "            if(account.account_number == acc):\n",
    "                return account\n",
    "            return None\n",
    "        \n",
    "    def admin_check_total_deposit(self):\n",
    "        total_dep = 0\n",
    "        for acc in Bank.accounts:\n",
    "            total_dep += acc.balance\n",
    "        print(f\"Total deposit is {total_dep}\")\n",
    "    def admin_check_total_accounts(self):\n",
    "        print(f\"Total accounts are {len(Bank.accounts)}\")\n",
    "        \n",
    "\n",
    "    def transfer(self,sender_account_number,receiver_account_number,amount):\n",
    "        pass\n",
    "        \n",
    "\n",
    "\n",
    "    \n",
    "\n",
    "    \n",
    "\n",
    "        \n",
    "\n",
    "\n",
    "        \n",
    "    "
   ]
  },
  {
   "cell_type": "code",
   "execution_count": 3,
   "id": "9f6ef30b",
   "metadata": {},
   "outputs": [],
   "source": [
    "bank1 = Bank()\n",
    "bank1.open_account(\"Sameer\")\n",
    "\n",
    "bank2 = Bank()\n",
    "bank2.open_account(\"Ali\")\n",
    "\n"
   ]
  },
  {
   "cell_type": "code",
   "execution_count": 4,
   "id": "cb71e90d",
   "metadata": {},
   "outputs": [
    {
     "name": "stdout",
     "output_type": "stream",
     "text": [
      "Total deposit is 0\n",
      "Total accounts are 2\n"
     ]
    }
   ],
   "source": [
    "\n",
    "bank2.admin_check_total_deposit()\n",
    "bank2.admin_check_total_accounts()"
   ]
  },
  {
   "cell_type": "code",
   "execution_count": null,
   "id": "d972cb9b",
   "metadata": {},
   "outputs": [],
   "source": []
  },
  {
   "cell_type": "markdown",
   "id": "3b062c5b",
   "metadata": {},
   "source": [
    "# Menu Driven Interface "
   ]
  },
  {
   "cell_type": "code",
   "execution_count": null,
   "id": "6786ca0b",
   "metadata": {},
   "outputs": [
    {
     "name": "stdout",
     "output_type": "stream",
     "text": [
      "WELCOME TO THE APNA BANK\n",
      "Create Account by pressing A\n",
      "Deposit Amount by pressing B\n",
      "Check Balance by pressing C\n",
      "Withdraw Amount by pressing D\n",
      "Trasaction History by pressing S\n",
      "Exit from the process.\n",
      "\n",
      "What do you want?a\n",
      "Enter the Account Name: Aleeza\n",
      "What do you want?b\n",
      "Enter amount to be deposit: 500\n",
      "500 is deposited in your account.\n",
      "What do you want?c\n",
      "Your current balance is 500\n",
      "What do you want?d\n",
      "Enter the amount to be withdrawn: 300\n",
      "300 has been withdrawn from your Account.\n",
      "What do you want?c\n",
      "Your current balance is 200\n",
      "What do you want?s\n",
      "Aleeza's transaction history is:\n",
      "{'type': 'deposit', 'amount': 500, 'time': '2025-01-09 18:29:39'}\n",
      "{'type': 'withdraw', 'amount': 300, 'time': '2025-01-09 18:29:45'}\n"
     ]
    }
   ],
   "source": [
    "flag = True\n",
    "print(\"WELCOME TO THE APNA BANK\")\n",
    "print(\"Create Account by pressing A\")\n",
    "print(\"Deposit Amount by pressing B\")\n",
    "print(\"Check Balance by pressing C\")\n",
    "print(\"Withdraw Amount by pressing D\")\n",
    "print(\"Trasaction History by pressing S\")\n",
    "print(\"Exit from the process.\",end='\\n\\n')\n",
    "\n",
    "while(flag):\n",
    "    \n",
    "    option = input(\"What do you want?\")\n",
    "    \n",
    "    if(option == 'A' or option == 'a'):\n",
    "        name = input(\"Enter the Account Name: \")\n",
    "        ba1 = Bank()\n",
    "        ba1.open_account(name)\n",
    "    elif(option == 'B' or option == 'b'):\n",
    "        amount = int(input(\"Enter amount to be deposit: \"))\n",
    "        obj = ba1.get_account_instance()\n",
    "        obj.deposit_amount(amount)\n",
    "    elif(option == 'C' or option == 'c'):\n",
    "        obj.check_balance()\n",
    "    elif(option == 'D' or option == 'd'):\n",
    "        amount = int(input(\"Enter the amount to be withdrawn: \"))\n",
    "        obj.withdraw_amount(amount)\n",
    "    elif(option == \"S\" or option == 's'):\n",
    "        obj.show_transaction()\n",
    "    elif(option == 'E' or option == 'e'):\n",
    "        flag = False"
   ]
  },
  {
   "cell_type": "code",
   "execution_count": null,
   "id": "1635cbe1",
   "metadata": {},
   "outputs": [],
   "source": []
  }
 ],
 "metadata": {
  "kernelspec": {
   "display_name": "Python 3 (ipykernel)",
   "language": "python",
   "name": "python3"
  },
  "language_info": {
   "codemirror_mode": {
    "name": "ipython",
    "version": 3
   },
   "file_extension": ".py",
   "mimetype": "text/x-python",
   "name": "python",
   "nbconvert_exporter": "python",
   "pygments_lexer": "ipython3",
   "version": "3.10.9"
  }
 },
 "nbformat": 4,
 "nbformat_minor": 5
}
