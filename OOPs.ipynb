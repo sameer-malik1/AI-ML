{
  "nbformat": 4,
  "nbformat_minor": 0,
  "metadata": {
    "colab": {
      "provenance": [],
      "authorship_tag": "ABX9TyOZyYUXwmbvKJx9UBJ+E+dT",
      "include_colab_link": true
    },
    "kernelspec": {
      "name": "python3",
      "display_name": "Python 3"
    },
    "language_info": {
      "name": "python"
    }
  },
  "cells": [
    {
      "cell_type": "markdown",
      "metadata": {
        "id": "view-in-github",
        "colab_type": "text"
      },
      "source": [
        "<a href=\"https://colab.research.google.com/github/sameer-malik1/AI-ML/blob/main/OOPs.ipynb\" target=\"_parent\"><img src=\"https://colab.research.google.com/assets/colab-badge.svg\" alt=\"Open In Colab\"/></a>"
      ]
    },
    {
      "cell_type": "code",
      "execution_count": null,
      "metadata": {
        "id": "YCyD_3KnqrOL"
      },
      "outputs": [],
      "source": [
        "class Car():\n",
        "  show_room = \"Malik showrooms\" # class/static variable\n",
        "  def __init__(self,model,brand,color):\n",
        "    self.model = model\n",
        "    self.__brand = brand #__ double underscore shows private members\n",
        "    self.color = color\n",
        "\n",
        "  def set_brand(self,br):\n",
        "    self.__brand= br\n",
        "  def get_brand(self):\n",
        "    return self.__brand\n",
        "  def fill_gas_tank(self):\n",
        "    return \"gas tank is being filled\""
      ]
    },
    {
      "cell_type": "code",
      "source": [
        "c1 = Car(2024,\"Suzuki\",\"red\")\n"
      ],
      "metadata": {
        "id": "TPYEn-Vzq5o3"
      },
      "execution_count": null,
      "outputs": []
    },
    {
      "cell_type": "code",
      "source": [
        "c1.set_brand(\"Honda\")\n",
        "print(c1.get_brand())\n"
      ],
      "metadata": {
        "colab": {
          "base_uri": "https://localhost:8080/"
        },
        "id": "YX46YZWJsA5w",
        "outputId": "cc82cd5d-5b04-4f9f-e64b-ce720da1bc51"
      },
      "execution_count": null,
      "outputs": [
        {
          "output_type": "stream",
          "name": "stdout",
          "text": [
            "Honda\n"
          ]
        }
      ]
    },
    {
      "cell_type": "markdown",
      "source": [
        "# **Inheritance**"
      ],
      "metadata": {
        "id": "NQ7evwqr8rAo"
      }
    },
    {
      "cell_type": "code",
      "source": [
        "class ElecCar(Car):\n",
        "  def __init__(self,model,brand,color,seats,battery_size):\n",
        "    super().__init__(model,brand,color)\n",
        "    self.__seats=seats\n",
        "    self.__battery_size = battery_size\n",
        "  def get_seats(self):\n",
        "    return self.__seats\n",
        "  def set_seats(self,newSeats):\n",
        "    self.__seats = newSeats\n",
        "  def get_battery_size(self):\n",
        "    return self.__battery_size\n",
        "  def set_battery_size(self,newBatterySize):\n",
        "    self.__battery_size = newBatterySize\n",
        "  def fill_gas_tank(self):\n",
        "    return \"Electric cars have no gas tank\"\n"
      ],
      "metadata": {
        "id": "DLsB69w8sZF8"
      },
      "execution_count": null,
      "outputs": []
    },
    {
      "cell_type": "code",
      "source": [
        "ec1 = ElecCar(2025,\"Ferari\",\"red\",4,200)\n"
      ],
      "metadata": {
        "id": "e-vN7vaXsg_6"
      },
      "execution_count": null,
      "outputs": []
    },
    {
      "cell_type": "code",
      "source": [
        "print(ec1.color)\n",
        "print(ec1.get_brand())\n",
        "print(ec1.fill_gas_tank())\n",
        "print(ElecCar.show_room)"
      ],
      "metadata": {
        "colab": {
          "base_uri": "https://localhost:8080/"
        },
        "id": "SjA2S-tvN2l9",
        "outputId": "bd9cd50a-b8b6-4e7d-a009-f69d0644dd50"
      },
      "execution_count": null,
      "outputs": [
        {
          "output_type": "stream",
          "name": "stdout",
          "text": [
            "red\n",
            "Ferari\n",
            "Electric cars have no gas tank\n",
            "Malik showrooms\n"
          ]
        }
      ]
    },
    {
      "cell_type": "code",
      "source": [
        "class Human():\n",
        "  def __init__(self,name,age,complexion=\"fair\"):\n",
        "    self.name= name\n",
        "    self.age=age\n",
        "    self.complexion=complexion\n",
        "  def introduce(self):\n",
        "    print(\n",
        "        f\"\"\"My name is {self.name} & I am {self.age} years old. My complexion is {self.complexion}\n",
        "        \"\"\"\n",
        "    )"
      ],
      "metadata": {
        "id": "jgU5XnV1N8Fl"
      },
      "execution_count": null,
      "outputs": []
    },
    {
      "cell_type": "code",
      "source": [
        "h1 = Human('Sameer',22)\n",
        "h1.introduce()"
      ],
      "metadata": {
        "colab": {
          "base_uri": "https://localhost:8080/"
        },
        "id": "725NxzzJHLrN",
        "outputId": "9f91fa05-70ab-4176-839b-c4871d3f6bbe"
      },
      "execution_count": null,
      "outputs": [
        {
          "output_type": "stream",
          "name": "stdout",
          "text": [
            "My name is Sameer & I am 22 years old. My complexion is fair\n",
            "        \n"
          ]
        }
      ]
    },
    {
      "cell_type": "markdown",
      "source": [
        "# Magic Method"
      ],
      "metadata": {
        "id": "G1UTfPcFUGOr"
      }
    },
    {
      "cell_type": "code",
      "source": [
        "class Fraction():\n",
        "  def __init__(self,x,y):\n",
        "    self.nume=x\n",
        "    self.deno=y\n",
        "\n",
        "  def __str__(self):\n",
        "    return f\"{self.nume}/{self.deno}\"\n",
        "\n",
        "  def __add__(self,other):\n",
        "    new_nume = self.nume*other.deno+ other.nume*self.deno\n",
        "    new_deno = self.deno*other.deno\n",
        "    return f\"{new_nume}/{new_deno}\"\n",
        "\n",
        "  def __sub__(self,other):\n",
        "    new_nume = self.nume*other.deno- other.nume*self.deno\n",
        "    new_deno = self.deno*other.deno\n",
        "    return f\"{new_nume}/{new_deno}\"\n",
        "\n",
        "  def __mul__(self,other):\n",
        "    new_nume = self.nume*other.nume\n",
        "    new_deno = self.deno*other.deno\n",
        "    return f\"{new_nume}/{new_deno}\"\n",
        "\n",
        "  def __truediv__(self,other):\n",
        "    new_nume = self.nume*other.deno\n",
        "    new_deno = self.deno*other.nume\n",
        "    return f\"{new_nume}/{new_deno}\""
      ],
      "metadata": {
        "id": "7xH8y1aqUAkK"
      },
      "execution_count": null,
      "outputs": []
    },
    {
      "cell_type": "code",
      "source": [
        "obj = Fraction(1,2)\n",
        "obj2 = Fraction(2,3)\n",
        "print(obj+obj2)\n",
        "print(obj-obj2)\n",
        "print(obj*obj2)\n",
        "print(obj/obj2)"
      ],
      "metadata": {
        "colab": {
          "base_uri": "https://localhost:8080/"
        },
        "id": "pLCPNJZ0UWSx",
        "outputId": "84edc02d-3d1a-439c-d517-55cabc8757f8"
      },
      "execution_count": null,
      "outputs": [
        {
          "output_type": "stream",
          "name": "stdout",
          "text": [
            "7/6\n",
            "-1/6\n",
            "2/6\n",
            "3/4\n"
          ]
        }
      ]
    },
    {
      "cell_type": "code",
      "source": [],
      "metadata": {
        "id": "Pse66tZeVM1v"
      },
      "execution_count": null,
      "outputs": []
    },
    {
      "cell_type": "markdown",
      "source": [
        "# Q1: Write OOP classes to handle the following scenarios:\n",
        "\n",
        "A user can create and view 2D coordinates\n",
        "\n",
        "A user can find out the distance between 2 coordinates\n",
        "\n",
        "A user can find the distance of a coordinate from origin\n",
        "\n",
        "A user can check if a point lies on a given line\n",
        "\n",
        "A user can find the distance between a given 2D point and a given line"
      ],
      "metadata": {
        "id": "xjcE3P2UXDrN"
      }
    },
    {
      "cell_type": "code",
      "source": [
        "class Point:\n",
        "  def __init__(self,x,y):\n",
        "    self.x_cod = x\n",
        "    self.y_cod = y\n",
        "\n",
        "  def __str__(self):\n",
        "    return f\"<{self.x_cod},{self.y_cod}>\"\n",
        "\n",
        "  def euclidean_distance(self,other):\n",
        "    return ((self.x_cod-other.x_cod)**2 + (self.y_cod-other.y_cod)**2)**0.5\n",
        "\n",
        "  def distance_from_origin(self):\n",
        "    return self.euclidean_distance(Point(0,0))\n"
      ],
      "metadata": {
        "id": "eGpATDfhXfKZ"
      },
      "execution_count": null,
      "outputs": []
    },
    {
      "cell_type": "code",
      "source": [
        "p1 = Point(2,3)\n",
        "p2 = Point(-2,-3)\n",
        "print(p1)\n",
        "print(p2)\n",
        "\n",
        "# p1.euclidean_distance(p2)\n",
        "p1.distance_from_origin()"
      ],
      "metadata": {
        "colab": {
          "base_uri": "https://localhost:8080/"
        },
        "id": "7wK3XF46X-YQ",
        "outputId": "0bb8bdaf-c923-4c66-bdbc-2fa8b370c275"
      },
      "execution_count": null,
      "outputs": [
        {
          "output_type": "stream",
          "name": "stdout",
          "text": [
            "<2,3>\n",
            "<-2,-3>\n"
          ]
        },
        {
          "output_type": "execute_result",
          "data": {
            "text/plain": [
              "3.605551275463989"
            ]
          },
          "metadata": {},
          "execution_count": 22
        }
      ]
    },
    {
      "cell_type": "markdown",
      "source": [
        "# Encapsulation:"
      ],
      "metadata": {
        "id": "bCHgr6xNNIOZ"
      }
    },
    {
      "cell_type": "code",
      "source": [
        "class ATM:\n",
        "  # statis/class variable\n",
        "  __accountCounter = 1  # private static variable\n",
        "\n",
        "  def __init__(self, pin, balance):\n",
        "    self.__pin = pin\n",
        "    self.__balance = balance\n",
        "    self.custId = ATM.__accountCounter # for testing purpose I kept this as public\n",
        "    ATM.__accountCounter += 1\n",
        "\n",
        "  # utility function\n",
        "  @staticmethod\n",
        "  def getCounter():\n",
        "    return ATM.__accountCounter\n",
        "\n",
        "  def get_balance(self):\n",
        "    return self.__balance\n",
        "  def set_balance(self,newValue):\n",
        "    # protecting from setting the invalid values by applying this checks while setting values\n",
        "    if type(newValue) == int and newValue >= 0:\n",
        "      self.__balance += newValue\n",
        "    else:\n",
        "      print(\"Invalid amount is not allowed\")\n",
        "  def deposit(self,amount):\n",
        "    self.set_balance(amount)\n",
        "\n",
        "  def withdraw(self,amount):\n",
        "    self.__balance -= amount"
      ],
      "metadata": {
        "id": "nHCWLyjfYC5A"
      },
      "execution_count": null,
      "outputs": []
    },
    {
      "cell_type": "code",
      "source": [
        "acc1 = ATM(\"1234\",1000)\n",
        "acc2 = ATM(\"1234\",2000)\n",
        "\n",
        "print(acc1.custId)\n",
        "print(acc2.custId)\n",
        "ATM.getCounter()\n",
        "\n",
        "\n",
        "# acc1.deposit(4000)\n",
        "# acc1.get_balance()"
      ],
      "metadata": {
        "colab": {
          "base_uri": "https://localhost:8080/"
        },
        "id": "JlNya7NFRDZ9",
        "outputId": "0f2b6ddd-758a-4ce6-c36e-cb1f21993754"
      },
      "execution_count": null,
      "outputs": [
        {
          "output_type": "stream",
          "name": "stdout",
          "text": [
            "3\n",
            "4\n"
          ]
        },
        {
          "output_type": "execute_result",
          "data": {
            "text/plain": [
              "5"
            ]
          },
          "metadata": {},
          "execution_count": 42
        }
      ]
    },
    {
      "cell_type": "markdown",
      "source": [
        "**Relationships:**\n",
        "\n",
        "  1) Has A relation"
      ],
      "metadata": {
        "id": "V74o9yx_zBpm"
      }
    },
    {
      "cell_type": "code",
      "source": [
        "class Customer:\n",
        "  def __init__(self, name, gender, address):\n",
        "    self.name = name\n",
        "    self.gender = name\n",
        "    self.address = address\n",
        "\n",
        "  def print_address(self):\n",
        "    print(self.address.get_city(),self.address.town,self.address.province)\n",
        "\n",
        "  def edit_profile(self,newName,newCity,newTown,newProvince):\n",
        "    self.name = newName\n",
        "    self.address.edit_address(newCity,newTown,newProvince)\n",
        "\n",
        "\n",
        "class Address:\n",
        "  def __init__(self, city, town, province):\n",
        "    self.__city= city\n",
        "    self.town = town\n",
        "    self.province = province\n",
        "  def get_city(self):\n",
        "    return self.__city\n",
        "\n",
        "  def edit_address(self,newCity,newTown,newProvince):\n",
        "    self.__city = newCity\n",
        "    self.town = newTown\n",
        "    self.province = newProvince\n",
        "\n",
        "cust = Customer(\"Sameer\",\"Male\",Address(\"Karachi\",\"Malir\",\"Sindh\"))\n",
        "cust.print_address()\n",
        "\n",
        "cust.edit_profile(\"Ali\",\"Lahore\",\"Derbaar\",\"Punjab\")\n",
        "cust.print_address()"
      ],
      "metadata": {
        "id": "i8DLhnBLzVL3",
        "colab": {
          "base_uri": "https://localhost:8080/"
        },
        "outputId": "58d3fca6-a6f8-4407-defa-f455177db51b"
      },
      "execution_count": null,
      "outputs": [
        {
          "output_type": "stream",
          "name": "stdout",
          "text": [
            "Karachi Malir Sindh\n",
            "Lahore Derbaar Punjab\n"
          ]
        }
      ]
    },
    {
      "cell_type": "markdown",
      "source": [
        "# 2) Inheritance\n",
        "\n",
        "A class can inherit from another class.\n",
        "\n",
        "Inheritance improves code reuse\n",
        "\n",
        "Constructor, attributes, methods get inherited to the child class\n",
        "\n",
        "The parent has no access to the child class\n",
        "\n",
        "Private properties of parent are not accessible directly in child class\n",
        "\n",
        "Child class can override the attributes or methods. This is called method overriding\n",
        "\n",
        "super() is an inbuilt function which is used to invoke the parent class methods and constructor"
      ],
      "metadata": {
        "id": "uRpm-xnBsn4V"
      }
    },
    {
      "cell_type": "code",
      "source": [
        "# Example 1: after inheriting the parent class, always child class constructor is called first, if child class has constructor, otherwise parent class's constructor is called.\n",
        "class Phone:\n",
        "  def __init__(self,brand,price,camera):\n",
        "    self.__price = price\n",
        "    self.brand = brand\n",
        "    self.camera = camera\n",
        "\n",
        "  def buy(self):\n",
        "    print(\"Buying takes place in phone class\")\n",
        "\n",
        "# Inherit the phone class\n",
        "class SmartPhone(Phone):\n",
        "  # child constructor\n",
        "  def __init__(self):\n",
        "    print(\"In the SmartPhone class constructor\")\n",
        "  def buy(self): # method overriding\n",
        "    print(\"Buring takes place in Smartphone class\")\n",
        "\n",
        "sm1 = SmartPhone()\n",
        "sm1.buy()"
      ],
      "metadata": {
        "colab": {
          "base_uri": "https://localhost:8080/"
        },
        "id": "82a6ssD8ss5u",
        "outputId": "a65ac436-4385-421d-9327-52fb5e4bdf83"
      },
      "execution_count": null,
      "outputs": [
        {
          "output_type": "stream",
          "name": "stdout",
          "text": [
            "In the SmartPhone class constructor\n",
            "Buring takes place in Smartphone class\n"
          ]
        }
      ]
    },
    {
      "cell_type": "code",
      "source": [
        "# Example 2: Utilizing parent method instead of having same method in child using super keyword\n",
        "class Phone:\n",
        "  def __init__(self,brand,price,camera):\n",
        "    print(\"In the Phone class constructor\")\n",
        "    self.__price = price\n",
        "    self.brand = brand\n",
        "    self.camera = camera\n",
        "\n",
        "  def buy(self):\n",
        "    print(\"Buying takes place in phone class\")\n",
        "\n",
        "# Inherit the phone class\n",
        "class SmartPhone(Phone):\n",
        "  # child constructor\n",
        "  def __init__(self):\n",
        "    print(\"In the SmartPhone class constructor\")\n",
        "  def buy(self): # method overriding\n",
        "    print(\"Buring takes place in Smartphone class\")\n",
        "\n",
        "    # syntax to call parent class' buy method\n",
        "    super().buy()\n",
        "\n",
        "sm1 = SmartPhone()\n",
        "sm1.buy()"
      ],
      "metadata": {
        "colab": {
          "base_uri": "https://localhost:8080/"
        },
        "id": "JkHkvX77wqUB",
        "outputId": "8e517348-316b-4089-f6ab-8e9e35f1aec5"
      },
      "execution_count": null,
      "outputs": [
        {
          "output_type": "stream",
          "name": "stdout",
          "text": [
            "In the SmartPhone class constructor\n",
            "Buring takes place in Smartphone class\n",
            "Buying takes place in phone class\n"
          ]
        }
      ]
    },
    {
      "cell_type": "code",
      "source": [
        "# Example 3: Smarter way to super keyword to utilize both of the constructors\n",
        "class Phone:\n",
        "  def __init__(self,brand,price,camera):\n",
        "    print(\"In the Phone class constructor\")\n",
        "    self.__price = price\n",
        "    self.brand = brand\n",
        "    self.camera = camera\n",
        "\n",
        "  def buy(self):\n",
        "    print(\"Buying takes place in phone class\")\n",
        "\n",
        "# Inherit the phone class\n",
        "class SmartPhone(Phone):\n",
        "  # child constructor\n",
        "  def __init__(self,brand,price,camera,os,ram):\n",
        "    print(\"In the SmartPhone class constructor\")\n",
        "    # calling the parent constructor and initializing instance variables of parent class\n",
        "    super().__init__(brand,price,camera)\n",
        "    self.os = os\n",
        "    self.ram = ram\n",
        "    print(\"In side Smartphone class construtor\")\n",
        "  def buy(self): # method overriding\n",
        "    print(\"Buring takes place in Smartphone class\")\n",
        "\n",
        "sm1 = SmartPhone(\"Apple\",30000,\"50 mp\",\"IOS\",\"8 GB\")\n",
        "print(sm1.os)\n",
        "print(sm1.brand)"
      ],
      "metadata": {
        "colab": {
          "base_uri": "https://localhost:8080/"
        },
        "id": "764-eSFVyg3k",
        "outputId": "a43cb807-278e-4be9-cebe-419e30abe04b"
      },
      "execution_count": null,
      "outputs": [
        {
          "output_type": "stream",
          "name": "stdout",
          "text": [
            "In the SmartPhone class constructor\n",
            "In the Phone class constructor\n",
            "In side Smartphone class construtor\n",
            "IOS\n",
            "Apple\n"
          ]
        }
      ]
    },
    {
      "cell_type": "code",
      "source": [
        "# Example 4: child method of same name is executed first always, which is known as method overirding\n",
        "class Phone:\n",
        "  def __init__(self,brand,price,camera):\n",
        "    self.__price = price\n",
        "    self.brand = brand\n",
        "    self.camera = camera\n",
        "\n",
        "  def buy(self):\n",
        "    print(\"Buying takes place in phone class\")\n",
        "\n",
        "# Inherit the phone class\n",
        "class SmartPhone(Phone):\n",
        "  def buy(self): # method overriding\n",
        "    print(\"Buring takes place in Smartphone class\")\n",
        "\n",
        "sm1 = SmartPhone(\"Samsung\",12000,\"64 mp\")\n",
        "sm1.buy()"
      ],
      "metadata": {
        "id": "G8DHf2kpuWlM"
      },
      "execution_count": null,
      "outputs": []
    },
    {
      "cell_type": "code",
      "source": [
        "# Multiple inheritance or diamond problem\n",
        "class Phone:\n",
        "  def __init__(self,brand,price,camera):\n",
        "    self.__price = price\n",
        "    self.brand = brand\n",
        "    self.camera = camera\n",
        "\n",
        "  def buy(self):\n",
        "    print(\"Buying takes place in phone class\")\n",
        "\n",
        "class Product:\n",
        "  def buy(self):\n",
        "    print(\"Buying takes place in Product class\")\n",
        "\n",
        "# Method resolution order (LTR)\n",
        "class SmartPhone(Product,Phone):\n",
        "  pass\n",
        "\n",
        "obj1 = SmartPhone(\"Oneplus\",50000,\"32 mp\")\n",
        "# buy method will be excuted from the first inherited class which is on left as per the MRO(left to right rule)\n",
        "obj1.buy()\n"
      ],
      "metadata": {
        "colab": {
          "base_uri": "https://localhost:8080/"
        },
        "id": "w_wGDGBe-n0G",
        "outputId": "b5b5f468-fc0c-4bfc-eaa5-7ead8d5e06e3"
      },
      "execution_count": null,
      "outputs": [
        {
          "output_type": "stream",
          "name": "stdout",
          "text": [
            "Buying takes place in Product class\n"
          ]
        }
      ]
    },
    {
      "cell_type": "markdown",
      "source": [
        "# **Polymorphism**"
      ],
      "metadata": {
        "id": "NFJf0TNPDmif"
      }
    },
    {
      "cell_type": "code",
      "source": [
        "# Method overriding (defined above)\n",
        "\n",
        "# Method overloading: it is not allowed in python, but somehow it can be implemented as\n",
        "\n",
        "class Shape:\n",
        "  def area(self,a,b=0):\n",
        "    if b==0:\n",
        "      # area of circle\n",
        "      return 3.14*a*a\n",
        "    else:\n",
        "      # area of rectangle\n",
        "      return a*b\n",
        "\n",
        "s = Shape()\n",
        "print(s.area(3))\n",
        "print(s.area(3,4))"
      ],
      "metadata": {
        "colab": {
          "base_uri": "https://localhost:8080/"
        },
        "id": "CRT4-Zl3ExRJ",
        "outputId": "6172e9c4-a98b-47ad-a274-a80e34a51298"
      },
      "execution_count": null,
      "outputs": [
        {
          "output_type": "stream",
          "name": "stdout",
          "text": [
            "28.259999999999998\n",
            "12\n"
          ]
        }
      ]
    },
    {
      "cell_type": "code",
      "source": [
        "# Operator overloading: when operator behaves differently based on different types of input such as \"abc\" + \"de\" = \"abcde\", 12 + 2 = 14, it can be implemented using magic methods\n",
        "\n",
        "class Vector:\n",
        "    def __init__(self, x, y):\n",
        "        self.x = x\n",
        "        self.y = y\n",
        "\n",
        "    # Overloading the + operator\n",
        "    def __add__(self, other):\n",
        "        return Vector(self.x + other.x, self.y + other.y)\n",
        "\n",
        "    def __str__(self):\n",
        "        return f\"Vector({self.x}, {self.y})\"\n",
        "\n",
        "v1 = Vector(2, 3)\n",
        "v2 = Vector(5, 7)\n",
        "print(v1 + v2)  # Output: Vector(7, 10)"
      ],
      "metadata": {
        "colab": {
          "base_uri": "https://localhost:8080/"
        },
        "id": "CvD1S0b9H1n0",
        "outputId": "06f42f2d-0890-4c1f-beb1-c7c23e21c71a"
      },
      "execution_count": null,
      "outputs": [
        {
          "output_type": "stream",
          "name": "stdout",
          "text": [
            "Vector(7, 10)\n"
          ]
        }
      ]
    },
    {
      "cell_type": "markdown",
      "source": [
        "# **Practice Problems**"
      ],
      "metadata": {
        "id": "jkexlKSmh0ua"
      }
    },
    {
      "cell_type": "markdown",
      "source": [
        "Q1: Rectangle Class\n",
        "        \n",
        "        1. Write a Rectangle class in Python language, allowing you to build a rectangle with length and width attributes.\n",
        "        \n",
        "        2. Create a Perimeter() method to calculate the perimeter of the rectangle and a Area() method to calculate the area of ​​the rectangle.\n",
        "        \n",
        "        3. Create a method display() that display the length, width, perimeter and area of an object created using an instantiation on rectangle class."
      ],
      "metadata": {
        "id": "QEpbd2njh7Ef"
      }
    },
    {
      "cell_type": "code",
      "source": [
        "class Rectangle:\n",
        "  def __init__(self,length, width):\n",
        "    self.__length = length\n",
        "    self.__width = width\n",
        "\n",
        "  def __perimeter(self):\n",
        "    return 2*(self.__length + self.__width)\n",
        "\n",
        "  def __area(self):\n",
        "    return self.__length * self.__width\n",
        "\n",
        "  def display(self):\n",
        "    print(f\"\"\"\"\n",
        "          Length: {self.__length}\n",
        "          Width: {self.__width}\n",
        "          Perimeter: {self.__perimeter()}\n",
        "          Area: {self.__area()}\n",
        "    \"\"\")"
      ],
      "metadata": {
        "id": "ECRXQxhSiUX2"
      },
      "execution_count": null,
      "outputs": []
    },
    {
      "cell_type": "code",
      "source": [
        "r1 = Rectangle(4,5)\n",
        "r1.display()"
      ],
      "metadata": {
        "colab": {
          "base_uri": "https://localhost:8080/"
        },
        "id": "Z7iBFp2Hi6oj",
        "outputId": "8854553a-64bd-4e07-9300-ed8047394088"
      },
      "execution_count": null,
      "outputs": [
        {
          "output_type": "stream",
          "name": "stdout",
          "text": [
            "\"\n",
            "          Length: 4\n",
            "          Width: 5\n",
            "          Perimeter: 18\n",
            "          Area: 20\n",
            "    \n"
          ]
        }
      ]
    },
    {
      "cell_type": "markdown",
      "source": [
        "Q2: Bank Class\n",
        "\n",
        "        1. Create a Python class called `BankAccount` which represents a bank account, having as attributes: `accountNumber` (numeric type), `name` (name of the account owner as string type), `balance`.\n",
        "        2. Create a constructor with parameters: `accountNumber, name, balance`.\n",
        "        3. Create a `Deposit()` method which manages the deposit actions.\n",
        "        4. Create a `Withdrawal()` method  which manages withdrawals actions.\n",
        "        5. Create an `bankFees()` method to apply the bank fees with a percentage of 5% of the balance account.\n",
        "        6. Create a `display()` method to display account details.\n",
        "        \"Give the complete code for the  BankAccount class.\""
      ],
      "metadata": {
        "id": "IP-oWb44lBIK"
      }
    },
    {
      "cell_type": "code",
      "source": [
        "class BankAccount:\n",
        "  def __init__(self, accountNum, name=\"\", balance=0):\n",
        "    self.__accountNum = accountNum\n",
        "    self.__name = name\n",
        "    self.__balance = balance\n",
        "  def deposit(self,amount):\n",
        "    self.__balance += amount\n",
        "  def withdraw(self,amount):\n",
        "    if(amount>self.__balance):\n",
        "      print(\"Insufficient funds\")\n",
        "    else:\n",
        "      self.__balance = self.__balance - amount\n",
        "      print(f\"{amount} has been withdrawn and your current balance is {self.__balance}\")\n",
        "  def bankFee(self):\n",
        "    return self.__balance*0.05\n",
        "\n",
        "  def display(self):\n",
        "     print(f\"\"\"\"\n",
        "          AccountNum: {self.__accountNum}\n",
        "          Name: {self.__name}\n",
        "          Balance: {self.__balance}\n",
        "\n",
        "    \"\"\")\n",
        "\n",
        "\n",
        "\n"
      ],
      "metadata": {
        "id": "6KIU-kThk2Lp"
      },
      "execution_count": null,
      "outputs": []
    },
    {
      "cell_type": "code",
      "source": [
        "ac1 = BankAccount(\"A01\",\"Sameer\",1000)\n",
        "ac1.deposit(6000)\n",
        "ac1.withdraw(5000)\n",
        "ac1.display()"
      ],
      "metadata": {
        "colab": {
          "base_uri": "https://localhost:8080/"
        },
        "id": "A2-1lkMMolws",
        "outputId": "6c97b275-4118-471b-f513-1c2b0ac649b4"
      },
      "execution_count": null,
      "outputs": [
        {
          "output_type": "stream",
          "name": "stdout",
          "text": [
            "5000 has been withdrawn and your current balance is 2000\n",
            "\"\n",
            "          AccountNum: A01\n",
            "          Name: Sameer\n",
            "          Balance: 2000\n",
            "          \n",
            "    \n"
          ]
        }
      ]
    },
    {
      "cell_type": "markdown",
      "source": [
        "Q3: Computation class:\n",
        "        \n",
        "        1. Create a `Computation` class with a default constructor (without parameters) allowing to perform various calculations on integers numbers.\n",
        "        \n",
        "        2. Create a method called `Factorial()` which allows to calculate the factorial of an integer n. Integer n as parameter for this method.\n",
        "\n",
        "        3. Create a method called `naturalSum()` allowing to calculate the sum of the first n integers 1 + 2 + 3 + .. + n. Integer n as parameter for this method.\n",
        "\n",
        "        4. Create a method called `testPrime()` in  the Calculation class to test the primality of a given integer n, n is Prime or Not? Integer n as parameter for this method.\n",
        "\n",
        "        5. Create  a method called `testPrims()` allowing to test if two numbers are prime between them. Two integers are prime to one another if they have only `1` as their common divisor. Eg. 4 and 9 are prime to each other.\n",
        "\n",
        "        5. Create a `tableMult()` method which creates and displays the multiplication table of a given integer. Then create an `allTablesMult()` method to display all the integer multiplication tables 1, 2, 3, ..., 9.\n",
        "\n",
        "        6. Create a static `listDiv()` method that gets all the divisors of a given integer on new list called  Ldiv. Create another `listDivPrim()` method that gets all the prime divisors of a given integer."
      ],
      "metadata": {
        "id": "_T545U2SpdkM"
      }
    },
    {
      "cell_type": "code",
      "source": [
        "class Computation:\n",
        "  def factorial(self,n):\n",
        "    fact = 1\n",
        "    for i in range(1,n+1):\n",
        "      fact = fact*i\n",
        "    return fact\n",
        "\n",
        "  def naturalSum(self,n):\n",
        "    sum = 0\n",
        "    for i in range(1,n+1):\n",
        "      sum = sum +i\n",
        "    return sum\n",
        "\n",
        "  def testPrime(self, n):\n",
        "    for i in range(2,n):\n",
        "      if(n%i==0):\n",
        "        return \"Not Prime\"\n",
        "\n",
        "    return \"Prime\"\n",
        "\n",
        "  def testPrimes(self,n1,n2):\n",
        "    for i in range(2,n1):\n",
        "      if(n1%i==0):\n",
        "        n1 = False\n",
        "    for i in range(2,n2):\n",
        "      if(n2%i==0):\n",
        "        n2 = False\n",
        "    if(n1 and n2):\n",
        "      return \"Prime\"\n",
        "    else:\n",
        "      return \"Not prime\"\n",
        "\n",
        "  def listDiv(n):\n",
        "    Ldiv=[]\n",
        "    for i in range(1,n+1):\n",
        "      if(n%i==0):\n",
        "        Ldiv.append(i)\n",
        "    return Ldiv\n",
        "\n",
        "\n",
        "\n"
      ],
      "metadata": {
        "id": "17BNJ0fdoxNT"
      },
      "execution_count": null,
      "outputs": []
    },
    {
      "cell_type": "code",
      "source": [
        "c1 = Computation()\n",
        "# c1.factorial(6)\n",
        "# c1.naturalSum(4)\n",
        "# c1.testPrime(23)\n",
        "# c1.testPrimes(4,11)\n",
        "Computation.listDiv(40)"
      ],
      "metadata": {
        "colab": {
          "base_uri": "https://localhost:8080/"
        },
        "id": "EJUQfSfBrz8Q",
        "outputId": "2c347b34-fc4d-4a8a-abd4-c4f7cf9652ca"
      },
      "execution_count": null,
      "outputs": [
        {
          "output_type": "execute_result",
          "data": {
            "text/plain": [
              "[1, 2, 4, 5, 8, 10, 20, 40]"
            ]
          },
          "metadata": {},
          "execution_count": 53
        }
      ]
    },
    {
      "cell_type": "markdown",
      "source": [
        "Q4: Build flashcard using class in Python.\n",
        "        \n",
        "        Build a flashcard using class in python. A flashcard is a card having information on both sides, which can be used as an aid in memoization. Flashcards usually have a question on one side and an answer on the other.\n",
        "        \"**Example 1:**\n",
        "      \n",
        "        Approach:\n",
        "        - Create a class named FlashCard.\n",
        "        - Initialize dictionary fruits using __init__() method. Here you have to define fruit name as key and it's color as value. E.g., {\\\"Banana\\\": \\\"yellow\\\", \\\"Strawberries\\\": \\\"pink\\\"}\n",
        "        - Now randomly choose a pair from fruits by using _random_ module and store the key in variable _fruit_ and _value_ in variable color.\n",
        "        - Now prompt the user to answer the color of the randomly chosen fruit.\n",
        "        - If correct print correct else print wrong.\n",
        "        \n",
        "        Output:\n",
        "        welcome to fruit quiz\n",
        "        What is the color of Strawberries\n",
        "        \"pink\"\n",
        "        \"Correct answer\"\n",
        "        \"Enter 0, if you want to play again: 0\"\n",
        "        \"What is the color of watermelon\"\n",
        "        \"green\"\n",
        "        \"Correct answer\"\n",
        "        \"Enter 0, if you want to play again: 1\""
      ],
      "metadata": {
        "id": "fpLAklHZ1Ns2"
      }
    },
    {
      "cell_type": "code",
      "source": [
        "import random\n",
        "\n",
        "class FlashCard:\n",
        "  def __init__(self):\n",
        "    self.__fruits = {'apple':'red','banana':'yellow','grape':'green'}\n",
        "\n",
        "  def quiz(self):\n",
        "    while True:\n",
        "      fruit, color = random.choice(list(self.__fruits.items()))\n",
        "      print(f\"What is the color of {fruit}\")\n",
        "      ans = input()\n",
        "\n",
        "      if(ans == color):\n",
        "        print(\"Correct\")\n",
        "      else:\n",
        "        print(\"Incorrect\")\n",
        "\n",
        "      opt = int(input(\"Press 0 to play again, 1 to exit\"))\n",
        "\n",
        "      if opt:\n",
        "        break\n"
      ],
      "metadata": {
        "id": "eZNrTpuir67e"
      },
      "execution_count": null,
      "outputs": []
    },
    {
      "cell_type": "code",
      "source": [
        "fc = FlashCard()\n",
        "fc.quiz()"
      ],
      "metadata": {
        "colab": {
          "base_uri": "https://localhost:8080/"
        },
        "id": "liBPl5O-JbHH",
        "outputId": "c2d051ad-56ce-4d04-a7d3-a86a29337fb6"
      },
      "execution_count": null,
      "outputs": [
        {
          "name": "stdout",
          "output_type": "stream",
          "text": [
            "What is the color of apple\n",
            "red\n",
            "Correct\n",
            "Press 0 to play again, 1 to exit0\n",
            "What is the color of apple\n",
            "red\n",
            "Correct\n",
            "Press 0 to play again, 1 to exit0\n",
            "What is the color of apple\n",
            "red\n",
            "Correct\n",
            "Press 0 to play again, 1 to exit0\n",
            "What is the color of banana\n",
            "green\n",
            "Incorrect\n",
            "Press 0 to play again, 1 to exit1\n"
          ]
        }
      ]
    },
    {
      "cell_type": "markdown",
      "source": [
        "Q5: Problem 5 based on OOP Python.\n",
        "\n",
        "        TechWorld, a technology training center, wants to allocate courses for instructors. An instructor is identified by name, technology skills, experience and average feedback. An instructor is allocated a course, if he/she satisfies the below two conditions:\n",
        "\n",
        "        - eligibility criteria:\n",
        "            - if experience is more than 3 years, average feedback should be 4.5 or more\n",
        "\n",
        "            - if experience is 3 years or less, average feedback should be 4 or more\n",
        "\n",
        "        - he/she should posses the technology skill for the course\n",
        "\n",
        "        Identify the class name and attributes to represent instructors. Write a Python program to implement the class chosen with its attributes and methods.\n",
        "\n",
        "        \"**Note:**\n",
        "        - Consider all instance variables to be private and methods to be public.\n",
        "\n",
        "        - An instructor may have multiple technology skills, so consider instance variable, technology_skill to be a list.\n",
        "\n",
        "        - *check_eligibility()*: Return true if eligibility criteria is satisfied by the instructor. Else, return false\n",
        "\n",
        "        - *allocate_course(technology)*: Return true if the course which requires the given technology can be allocated to the instructor. Else, return false.\n",
        "\n",
        "        Represent a few objects of the class, initialize instance variables using setter methods, invoke\n",
        "        appropriate methods and test your program."
      ],
      "metadata": {
        "id": "p0NlFekkqddK"
      }
    },
    {
      "cell_type": "code",
      "source": [
        "class Instructor:\n",
        "  def __init__(self,name,technology,experience,feedback):\n",
        "    self.__name = name\n",
        "    self.__technology = technology\n",
        "    self.__experience = experience\n",
        "    self.__feedback = feedback\n",
        "\n",
        "  # Method to check eligibility of instructor\n",
        "  def check_eligibility(self):\n",
        "    if self.__experience >= 3 and self.__feedback >= 4.5:\n",
        "      return True\n",
        "    elif self.__experience <= 3 and self.__feedback >= 4:\n",
        "      return True\n",
        "    else:\n",
        "      return False\n",
        "  def allocate_course(self,tech):\n",
        "    is_eligible = self.check_eligibility()\n",
        "    if is_eligible:\n",
        "      if tech in self.__technology:\n",
        "        return \"Padha sakta hai\"\n",
        "      else:\n",
        "        return \"Ye tw isko aata hi nhi hai\"\n",
        "    else:\n",
        "      return \"Nhi padha sakta\""
      ],
      "metadata": {
        "id": "Snr2xdFjOq_a"
      },
      "execution_count": null,
      "outputs": []
    },
    {
      "cell_type": "code",
      "source": [
        "inst = Instructor(\"Sameer\",[\"DSA\",\"Web development\", \"Mobile app dev\",\"Data science\"],4,4.9)\n",
        "inst.allocate_course(\"DSA\")"
      ],
      "metadata": {
        "colab": {
          "base_uri": "https://localhost:8080/",
          "height": 35
        },
        "id": "iaS0m_A2rsZ5",
        "outputId": "8b1914e9-2ad2-4b1e-fedf-4676c89d39c3"
      },
      "execution_count": null,
      "outputs": [
        {
          "output_type": "execute_result",
          "data": {
            "text/plain": [
              "'Padha sakta hai'"
            ],
            "application/vnd.google.colaboratory.intrinsic+json": {
              "type": "string"
            }
          },
          "metadata": {},
          "execution_count": 22
        }
      ]
    },
    {
      "cell_type": "markdown",
      "source": [
        "Q6: Count number of instances of a class created in python?"
      ],
      "metadata": {
        "id": "zMvV1BM7Nhps"
      }
    },
    {
      "cell_type": "code",
      "source": [
        "class User:\n",
        "  __objectCounter = 0\n",
        "  def __init__(self):\n",
        "    User.__objectCounter += 1\n",
        "\n",
        "  def get_obj_counter():\n",
        "    return User.__objectCounter\n",
        "\n",
        "o1 = User()\n",
        "o2 = User()\n",
        "o3 = User()\n",
        "print(User.get_obj_counter())"
      ],
      "metadata": {
        "id": "wvdhuFgmxrOh",
        "colab": {
          "base_uri": "https://localhost:8080/"
        },
        "outputId": "b2dd1e10-3b9d-4482-9c96-8967f3352b0c"
      },
      "execution_count": null,
      "outputs": [
        {
          "output_type": "stream",
          "name": "stdout",
          "text": [
            "3\n"
          ]
        }
      ]
    },
    {
      "cell_type": "markdown",
      "source": [
        "Q7: Create a deck of cards class. Internally, the deck of cards should use another class, a card class. Your requirements are:\n",
        "        \n",
        "        * The `Deck` class should have a deal method to deal a single card from the deck\n",
        "        * After a card is dealt, it is removed from the deck.\n",
        "        * There should be a shuffle method which makes sure the deck of cards has all 52 cards and then rearranges them randomly.\n",
        "        * The Card class should have a suit (Hearts, Diamonds, Clubs, Spades) and a value (A,2,3,4,5,6,7,8,9,10,J,Q,K)\n",
        "  \n",
        "        `Deck` Class\n",
        "        * It is class of all possible cards in a deck. Total 52 cards.\n",
        "        * Methods - `deal()` it will take out one card from the deck of cards.\n",
        "        * Deck of cards should get shuffeled while creating the deck object.\n",
        "        * `no of cards remaining in deck - <number>` should display on printing any deck object.\n",
        "        `Card` class\n",
        "        * It is a class of card\n",
        "        * Atrributes - `suit` and `value\n",
        "        * `<suit> of <value>` should dsiplay on printing any card object."
      ],
      "metadata": {
        "id": "2TZx9ErkusP6"
      }
    },
    {
      "cell_type": "code",
      "source": [
        "import random\n",
        "class Card:\n",
        "  def __init__(self,suit,value):\n",
        "    self.suit = suit\n",
        "    self.value = value\n",
        "\n",
        "  def __repr__(self):\n",
        "    return f\"{self.value} of {self.suit} \"\n",
        "\n",
        "  # def __repr__(self):\n",
        "  #   return self.__str__()\n",
        "\n",
        "class Deck:\n",
        "  def __init__(self):\n",
        "    self.suits = [\"Hearts\",\"Diamonds\",\"Clubs\",\"Spades\"]\n",
        "    self.values = [\"A\",\"2\",\"3\",\"4\",\"5\",\"6\",\"7\",\"8\",\"9\",\"10\",\"K\",\"Q\",\"J\"]\n",
        "    self.cards = [Card(suit,value) for suit in self.suits for value in self.values]\n",
        "    print(self.cards)\n",
        "\n",
        "  def __repr__(self):\n",
        "    return f\"Cards left {len(self.cards)}\"\n",
        "\n",
        "  def shuffle(self):\n",
        "    if(len(self.cards) < 52):\n",
        "      print(\"Incomplete cards cannot be shuffled\")\n",
        "    else:\n",
        "      random.shuffle(self.cards)\n",
        "    return self.cards\n",
        "\n",
        "  def deal(self):\n",
        "    if self.cards == 0:\n",
        "      print(\"All cards have been dealt\")\n",
        "    return self.cards.pop()\n",
        "\n",
        "deck = Deck()\n",
        "deck.shuffle()\n",
        "print(deck.deal())\n",
        "print(deck.deal())\n",
        "print(deck)"
      ],
      "metadata": {
        "colab": {
          "base_uri": "https://localhost:8080/"
        },
        "id": "iyAON87cObnl",
        "outputId": "8eca9c16-f70e-4a90-acbd-02364ed54625"
      },
      "execution_count": null,
      "outputs": [
        {
          "output_type": "stream",
          "name": "stdout",
          "text": [
            "[A of Hearts , 2 of Hearts , 3 of Hearts , 4 of Hearts , 5 of Hearts , 6 of Hearts , 7 of Hearts , 8 of Hearts , 9 of Hearts , 10 of Hearts , K of Hearts , Q of Hearts , J of Hearts , A of Diamonds , 2 of Diamonds , 3 of Diamonds , 4 of Diamonds , 5 of Diamonds , 6 of Diamonds , 7 of Diamonds , 8 of Diamonds , 9 of Diamonds , 10 of Diamonds , K of Diamonds , Q of Diamonds , J of Diamonds , A of Clubs , 2 of Clubs , 3 of Clubs , 4 of Clubs , 5 of Clubs , 6 of Clubs , 7 of Clubs , 8 of Clubs , 9 of Clubs , 10 of Clubs , K of Clubs , Q of Clubs , J of Clubs , A of Spades , 2 of Spades , 3 of Spades , 4 of Spades , 5 of Spades , 6 of Spades , 7 of Spades , 8 of Spades , 9 of Spades , 10 of Spades , K of Spades , Q of Spades , J of Spades ]\n",
            "8 of Spades \n",
            "4 of Spades \n",
            "Cards left 50\n"
          ]
        }
      ]
    },
    {
      "cell_type": "markdown",
      "source": [
        " Q8: Find the area of a rectangle.\n",
        "      \n",
        "        Approach:\n",
        "        - The class name should be _Rectangle_.\n",
        "        - The constructor should accept two parameters *length* and *height* but you can't pass the values directly to it while creating the constructor. E.g., rectangle = Rectangle(length=10, height=8) <-- you can't do that while creating the instances.\n",
        "        - Create a method called *area()* which has no parameters.\n",
        "        - Create a method called *is_square()* which also has no parameters. Return True if the rectangle is a square otherwise return False.\n",
        "        - If you are using a if-else block inside the *is_square()* method, then use the one-linear syntax."
      ],
      "metadata": {
        "id": "9pg62GyahFse"
      }
    },
    {
      "cell_type": "code",
      "source": [
        "class Rectangle:\n",
        "  def __init__(self,len,wid):\n",
        "    self.length = len\n",
        "    self.width = wid\n",
        "\n",
        "  @classmethod\n",
        "  def property(cls,len,wid):\n",
        "    return cls(len,wid)\n",
        "\n",
        "  def area(self):\n",
        "    return self.length * self.width\n",
        "\n",
        "  def is_square(self):\n",
        "    return True if self.length == self.width else False\n",
        "\n",
        "rec = Rectangle.property(5,5)\n",
        "print(rec.area())\n",
        "print(rec.is_square())"
      ],
      "metadata": {
        "colab": {
          "base_uri": "https://localhost:8080/"
        },
        "id": "6kVwjUYTDMq6",
        "outputId": "0d33135c-79de-4098-fbe5-96a8d606f912"
      },
      "execution_count": null,
      "outputs": [
        {
          "output_type": "stream",
          "name": "stdout",
          "text": [
            "25\n",
            "True\n"
          ]
        }
      ]
    },
    {
      "cell_type": "markdown",
      "source": [
        "Q9: Write a program that uses datetime module within a class. Enter manufacturing date and expiry date of the product. The program must display the years, months and days that are left for expiry."
      ],
      "metadata": {
        "id": "LsR1dNLrm0Y9"
      }
    },
    {
      "cell_type": "code",
      "source": [
        "import datetime\n",
        "\n",
        "class Product:\n",
        "  def __init__(self):\n",
        "    self.manufacture_date = input(\"Enter the manufacturing date in the format MM/DD/YYYY\")\n",
        "    self.expiry_date = input(\"Enter the expiry date in the format MM/DD/YYYY\")\n",
        "\n",
        "    self.manufacture_date = datetime.datetime.strptime(self.manufacture_date,\"%m/%d/%Y\")\n",
        "    self.expiry_date = datetime.datetime.strptime(self.expiry_date,\"%m/%d/%Y\")\n",
        "\n",
        "  def get_expiry_date(self):\n",
        "    today = datetime.datetime.now()\n",
        "    if(today > self.expiry_date):\n",
        "      print(\"Product is expired\")\n",
        "    else:\n",
        "      timeLeft = self.expiry_date.date() - today.date()\n",
        "      print(\"Time left: \",timeLeft)\n",
        "\n",
        "\n",
        "\n",
        "\n",
        "\n",
        "p = Product()\n",
        "p.get_expiry_date()"
      ],
      "metadata": {
        "colab": {
          "base_uri": "https://localhost:8080/"
        },
        "id": "gCrv042Eh0C1",
        "outputId": "75d898df-a10f-4a81-80c8-63057e9ef72e"
      },
      "execution_count": null,
      "outputs": [
        {
          "output_type": "stream",
          "name": "stdout",
          "text": [
            "Enter the manufacturing date in the format MM/DD/YYYY01/01/2023\n",
            "Enter the expiry date in the format MM/DD/YYYY01/01/2026\n",
            "Time left:  267 days, 0:00:00\n"
          ]
        }
      ]
    },
    {
      "cell_type": "markdown",
      "source": [
        "Q10: A university wants to automate their admission process. Students are admitted based on the marks scored in the qualifying exam. A student is identified by student id, age and marks in qualifying exam. Data are valid, if:\n",
        "        - Age is greater than 20\n",
        "        - Marks is between 0 and 100 (both inclusive)\n",
        "        \n",
        "        A student qualifies for admission, if\n",
        "        - Age and marks are valid and\n",
        "        - Marks is 65 or more\n",
        "        Write a python program to represent the students seeking admission in the university. The details of student class are given below."
      ],
      "metadata": {
        "id": "UF1AA5t4lBbn"
      }
    },
    {
      "cell_type": "code",
      "source": [
        "class Student:\n",
        "  def __init__(self):\n",
        "    self.__sid = None\n",
        "    self.__marks = None\n",
        "    self.__age = None\n",
        "\n",
        "  # Setter\n",
        "  def set_sid(self,sid):\n",
        "    self.__sid = sid\n",
        "  def set_marks(self,marks):\n",
        "    self.__marks = marks\n",
        "  def set_age(self,age):\n",
        "    self.__age = age\n",
        "\n",
        "  # getter\n",
        "  def get_marks(self):\n",
        "    return self.__marks\n",
        "  def get_age(self):\n",
        "    return self.__age\n",
        "  def get_sid(self):\n",
        "    return self.__sid\n",
        "\n",
        "  def validate_marks(self):\n",
        "    # if(self.marks >= 0 and self.marks <= 100):\n",
        "    #   return True\n",
        "    # else:\n",
        "    #   return False\n",
        "    return self.__marks >= 0 and self.__marks <= 100\n",
        "  def validate_age(self):\n",
        "    # return True if(self.__age >= 20) else False # oneliner conditional statement\n",
        "    return self.__age >= 20\n",
        "\n",
        "  def check_qualification(self):\n",
        "    if(self.validate_age() and self.validate_marks()):\n",
        "      return True if self.get_marks() >= 65 else False\n",
        "    else:\n",
        "      return False\n",
        "\n",
        "s = Student()\n",
        "s.set_age(21)\n",
        "s.set_marks(60)\n",
        "s.set_sid(101)"
      ],
      "metadata": {
        "id": "ACBySYY-nIr7"
      },
      "execution_count": null,
      "outputs": []
    },
    {
      "cell_type": "code",
      "source": [
        "s.set_marks(70)\n",
        "s.check_qualification()"
      ],
      "metadata": {
        "colab": {
          "base_uri": "https://localhost:8080/"
        },
        "id": "ZkYMsn2ksX2H",
        "outputId": "1b80b507-ca9f-436a-934f-2850e3771a6d"
      },
      "execution_count": null,
      "outputs": [
        {
          "output_type": "execute_result",
          "data": {
            "text/plain": [
              "True"
            ]
          },
          "metadata": {},
          "execution_count": 35
        }
      ]
    },
    {
      "cell_type": "markdown",
      "source": [
        "Q11: Ice-Cream Scoops and Bowl shop\n",
        "\n",
        "        1. Create a class `Scoop` which has one public property `flavor` and one private proptery `price`. Take `flavor` values during object creation.\n",
        "        2. Create a class `Bowl` with private prperty `scoop_list` which will have list of scoopd object.\n",
        "        3. Create a method `add_scoops` in `Bowl` class which will add any no of `Scoop` objects given as parameter and store it in `scoops_list`.\n",
        "        4. Make getter and setter method for `price` property.\n",
        "        5. Make a method `display` to display `flavour` and `price` of each `Scoop` in `scoop_list` and print total price of the bowl by adding all flavour scoops prices.\n",
        "\n",
        "Q12: Ice-Cream Bowl continue..\n",
        "        \n",
        "        Making advancement in the above classes. `Scoop` and `Bowl`\n",
        "        1. Introduce a property `max_scoops` in `Bowl` class to signify maximum scoops that a bowl can have, exceeding that it will display `Bowl is full`. Take default value as `3`.\n",
        "        \n",
        "        2. `no_of_scoop` in `Scoop` class with default value of `1`\n",
        "        \n",
        "        3. Print `<flavour> added` with every scoop added."
      ],
      "metadata": {
        "id": "KR5QGafsto0T"
      }
    },
    {
      "cell_type": "code",
      "source": [
        "class Scoop:\n",
        "  __scoopCounter = 0\n",
        "\n",
        "  def __init__(self,flavor):\n",
        "    self.flavor = flavor\n",
        "    self.__price = None\n",
        "    Scoop.__scoopCounter += 1\n",
        "\n",
        "  def __repr__(self):\n",
        "    return f\"Flavor {self.flavor} Price {self.__price}\"\n",
        "\n",
        "  def get_sold_scoops():\n",
        "    return Scoop.__scoopCounter\n",
        "  # getter\n",
        "  def get_price(self):\n",
        "    return self.__price\n",
        "\n",
        "  # setter\n",
        "  def set_price(self,price):\n",
        "    self.__price = price\n",
        "\n",
        "class Bowl:\n",
        "  __bowlCounter = 0\n",
        "\n",
        "  def __init__(self):\n",
        "    self.__scoopList = []\n",
        "    Bowl.__bowlCounter += 1\n",
        "\n",
        "  def get_sold_bowls():\n",
        "    return Bowl.__bowlCounter\n",
        "\n",
        "  def add_scoops(self,*scoops):\n",
        "    for scoop in scoops:\n",
        "      self.__scoopList.append(scoop)\n",
        "\n",
        "  def display(self):\n",
        "    total = 0\n",
        "    for scoop in self.__scoopList:\n",
        "      total += scoop.get_price()\n",
        "      print(scoop)\n",
        "\n",
        "    print(\"Total price of all the scoops in the bowl: \",total)\n",
        "\n"
      ],
      "metadata": {
        "id": "-ndPhJFquUPR"
      },
      "execution_count": null,
      "outputs": []
    },
    {
      "cell_type": "code",
      "source": [
        "choco = Scoop(\"Chocolate\")\n",
        "choco.set_price(110)\n",
        "\n",
        "vanilla = Scoop(\"Vanilla\")\n",
        "vanilla.set_price(100)\n",
        "\n",
        "bowl = Bowl()\n",
        "bowl.add_scoops(choco)\n",
        "bowl.add_scoops(vanilla)\n",
        "bowl.display()\n",
        "\n",
        "print(Scoop.get_sold_scoops())\n",
        "print(Bowl.get_sold_bowls())"
      ],
      "metadata": {
        "colab": {
          "base_uri": "https://localhost:8080/"
        },
        "id": "r1Anz9ms09cp",
        "outputId": "4218f162-0d53-4c92-f314-05efed67178e"
      },
      "execution_count": null,
      "outputs": [
        {
          "output_type": "stream",
          "name": "stdout",
          "text": [
            "Flavor Chocolate Price 110\n",
            "Flavor Vanilla Price 100\n",
            "Total price of all the scoops in the bowl:  210\n",
            "2\n",
            "1\n"
          ]
        }
      ]
    },
    {
      "cell_type": "markdown",
      "source": [
        "# **OOPs Project:**\n",
        "this project is based on nlp based task, in which nlpcloud.com APIs are used.\n",
        "\n",
        "Program Flow:\n",
        "1. Register => name, email, password\n",
        "2. Login => after login, -> NER, Lang data, Senti\n",
        "3. Exit"
      ],
      "metadata": {
        "id": "_8voaSM1uEgI"
      }
    },
    {
      "cell_type": "code",
      "source": [
        "import nlpcloud\n",
        "\n",
        "class NLPApp:\n",
        "  def __init__(self):\n",
        "    self.__database = {}\n",
        "    self.__first_menu()\n",
        "\n",
        "  def __first_menu(self):\n",
        "    first_input = input(f'''\n",
        "    Hi! How would you like to proceed?\n",
        "    1. Not a member? Register\n",
        "    2. Already a member? Login\n",
        "    3. Exit\n",
        "    ''')\n",
        "    if first_input == '1':\n",
        "      self.__register()\n",
        "    elif first_input == '2':\n",
        "      self.__login()\n",
        "    else:\n",
        "      self.exit()\n",
        "\n",
        "  def __register(self):\n",
        "    name = input('Enter your name')\n",
        "    email = input('Enter your email')\n",
        "    password = input('Enter your password')\n",
        "\n",
        "    # checking if user is already exit in the database\n",
        "    if email in self.__database:\n",
        "      print('Already a member')\n",
        "    else:\n",
        "      self.__database[email] = [name,password]\n",
        "      print(\"Registred successfully, Now login\")\n",
        "      print(self.__database)\n",
        "      self.__first_menu()\n",
        "\n",
        "\n",
        "  def __login(self):\n",
        "    email = input('Enter your email')\n",
        "    password = input('Enter your password')\n",
        "\n",
        "\n",
        "    # checking if user exist in database or not\n",
        "    if email in self.__database:\n",
        "      if self.__database[email][1] == password:\n",
        "        print('Login Successfull')\n",
        "        self.__second_menu()\n",
        "      else:\n",
        "        print(\"Invalid Credentials\")\n",
        "        self.__login()\n",
        "    else:\n",
        "      print('You are not registered, first register.')\n",
        "      self.__register()\n",
        "\n",
        "\n",
        "  # second menu (actual task)\n",
        "  def __second_menu(self):\n",
        "    second_input = input(f'''\n",
        "    Hi! How would you like to proceed?\n",
        "    1. Name Entity Recognition\n",
        "    2. Language Detection\n",
        "    3. Sentiment Analysis\n",
        "    4. Exit\n",
        "    ''')\n",
        "    if second_input == '1':\n",
        "      self.__ner()\n",
        "    elif second_input == '2':\n",
        "      self.__language_detection()\n",
        "    elif second_input == '3':\n",
        "      self.__sentiment_analysis()\n",
        "    else:\n",
        "      self.__exit()\n",
        "\n",
        "  def __ner(self):\n",
        "    para = input(\"Enter the paragraph\")\n",
        "    search_term = input('Enter the search term')\n",
        "\n",
        "    client = nlpcloud.Client(\"finetuned-llama-3-70b\", \"c67c2e1ff55d94ff1cf540d69b8a741576dcc96e\", gpu=True)\n",
        "    response = client.entities(para,searched_entity=search_term)\n",
        "    print('Outcome:',end='\\n')\n",
        "    for i in response['entities']:\n",
        "      print(i['text'])\n",
        "\n",
        "  def __language_detection(self):\n",
        "    pass\n",
        "\n",
        "  def __sentiment_analysis(self):\n",
        "    pass\n"
      ],
      "metadata": {
        "id": "46LW3QijCe__"
      },
      "execution_count": null,
      "outputs": []
    },
    {
      "cell_type": "code",
      "source": [
        "app = NLPApp()"
      ],
      "metadata": {
        "colab": {
          "base_uri": "https://localhost:8080/"
        },
        "id": "2hUsIpiECe8q",
        "outputId": "59ca1513-f92d-44e9-ffd2-7f7a79a32fbd"
      },
      "execution_count": null,
      "outputs": [
        {
          "output_type": "stream",
          "name": "stdout",
          "text": [
            "\n",
            "    Hi! How would you like to proceed?\n",
            "    1. Not a member? Register\n",
            "    2. Already a member? Login\n",
            "    3. Exit\n",
            "    1\n",
            "Enter your namesam\n",
            "Enter your emailsam@gmail.com\n",
            "Enter your passwordsam\n",
            "Registred successfully, Now login\n",
            "{'sam@gmail.com': ['sam', 'sam']}\n",
            "\n",
            "    Hi! How would you like to proceed?\n",
            "    1. Not a member? Register\n",
            "    2. Already a member? Login\n",
            "    3. Exit\n",
            "    2\n",
            "Enter your emailsam@gmail.com\n",
            "Enter your passwordsam\n",
            "Login Successfull\n",
            "\n",
            "    Hi! How would you like to proceed?\n",
            "    1. Name Entity Recognition\n",
            "    2. Language Detection\n",
            "    3. Sentiment Analysis\n",
            "    4. Exit\n",
            "    1\n",
            "Enter the paragraphIn 2023, Dr. Anjali Mehra, a renowned physicist from the Indian Institute of Science, collaborated with NASA to study gravitational waves. Her research, funded by the European Space Agency, focused on the intersection of quantum mechanics and astrophysics. Meanwhile, Professor James Liu from MIT published groundbreaking work in synthetic biology, specifically on gene editing using CRISPR-Cas9. The conference on Computational Neuroscience held in Berlin attracted experts from Harvard, Stanford, and the University of Tokyo, discussing the latest advancements in AI-driven brain mapping technologies.\n",
            "Enter the search termscience subjects\n",
            "Outcome:\n",
            "physics\n",
            "gravitational waves\n",
            "quantum mechanics\n",
            "astrophysics\n",
            "synthetic biology\n",
            "gene editing\n",
            "CRISPR-Cas9\n",
            "Computational Neuroscience\n",
            "AI-driven brain mapping\n"
          ]
        }
      ]
    },
    {
      "cell_type": "code",
      "source": [],
      "metadata": {
        "id": "QvZdZD4EDrKs"
      },
      "execution_count": null,
      "outputs": []
    }
  ]
}