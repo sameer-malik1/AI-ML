{
  "nbformat": 4,
  "nbformat_minor": 0,
  "metadata": {
    "colab": {
      "provenance": [],
      "authorship_tag": "ABX9TyOzqd7YQyjMALZ/mB/4pOHT",
      "include_colab_link": true
    },
    "kernelspec": {
      "name": "python3",
      "display_name": "Python 3"
    },
    "language_info": {
      "name": "python"
    }
  },
  "cells": [
    {
      "cell_type": "markdown",
      "metadata": {
        "id": "view-in-github",
        "colab_type": "text"
      },
      "source": [
        "<a href=\"https://colab.research.google.com/github/sameer-malik1/AI-ML/blob/main/OOPs.ipynb\" target=\"_parent\"><img src=\"https://colab.research.google.com/assets/colab-badge.svg\" alt=\"Open In Colab\"/></a>"
      ]
    },
    {
      "cell_type": "code",
      "execution_count": null,
      "metadata": {
        "id": "YCyD_3KnqrOL"
      },
      "outputs": [],
      "source": [
        "class Car():\n",
        "  show_room = \"Malik showrooms\"\n",
        "  def __init__(self,model,brand,color):\n",
        "    self.model = model\n",
        "    self.__brand = brand #__ double underscore shows private members\n",
        "    self.color = color\n",
        "\n",
        "  def set_brand(self,br):\n",
        "    self.__brand= br\n",
        "  def get_brand(self):\n",
        "    return self.__brand\n",
        "  def fill_gas_tank(self):\n",
        "    return \"gas tank is being filled\""
      ]
    },
    {
      "cell_type": "code",
      "source": [
        "c1 = Car(2024,\"Suzuki\",\"red\")\n"
      ],
      "metadata": {
        "id": "TPYEn-Vzq5o3"
      },
      "execution_count": null,
      "outputs": []
    },
    {
      "cell_type": "code",
      "source": [
        "c1.set_brand(\"Honda\")\n",
        "print(c1.get_brand())\n"
      ],
      "metadata": {
        "colab": {
          "base_uri": "https://localhost:8080/"
        },
        "id": "YX46YZWJsA5w",
        "outputId": "cc82cd5d-5b04-4f9f-e64b-ce720da1bc51"
      },
      "execution_count": null,
      "outputs": [
        {
          "output_type": "stream",
          "name": "stdout",
          "text": [
            "Honda\n"
          ]
        }
      ]
    },
    {
      "cell_type": "markdown",
      "source": [
        "# **Inheritance**"
      ],
      "metadata": {
        "id": "NQ7evwqr8rAo"
      }
    },
    {
      "cell_type": "code",
      "source": [
        "class ElecCar(Car):\n",
        "  def __init__(self,model,brand,color,seats,battery_size):\n",
        "    super().__init__(model,brand,color)\n",
        "    self.__seats=seats\n",
        "    self.__battery_size = battery_size\n",
        "  def get_seats(self):\n",
        "    return self.__seats\n",
        "  def set_seats(self,newSeats):\n",
        "    self.__seats = newSeats\n",
        "  def get_battery_size(self):\n",
        "    return self.__battery_size\n",
        "  def set_battery_size(self,newBatterySize):\n",
        "    self.__battery_size = newBatterySize\n",
        "  def fill_gas_tank(self):\n",
        "    return \"Electric cars have no gas tank\"\n"
      ],
      "metadata": {
        "id": "DLsB69w8sZF8"
      },
      "execution_count": null,
      "outputs": []
    },
    {
      "cell_type": "code",
      "source": [
        "ec1 = ElecCar(2025,\"Ferari\",\"red\",4,200)\n"
      ],
      "metadata": {
        "id": "e-vN7vaXsg_6"
      },
      "execution_count": null,
      "outputs": []
    },
    {
      "cell_type": "code",
      "source": [
        "print(ec1.color)\n",
        "print(ec1.get_brand())\n",
        "print(ec1.fill_gas_tank())\n",
        "print(ElecCar.show_room)"
      ],
      "metadata": {
        "colab": {
          "base_uri": "https://localhost:8080/"
        },
        "id": "SjA2S-tvN2l9",
        "outputId": "bd9cd50a-b8b6-4e7d-a009-f69d0644dd50"
      },
      "execution_count": null,
      "outputs": [
        {
          "output_type": "stream",
          "name": "stdout",
          "text": [
            "red\n",
            "Ferari\n",
            "Electric cars have no gas tank\n",
            "Malik showrooms\n"
          ]
        }
      ]
    },
    {
      "cell_type": "code",
      "source": [
        "class Human():\n",
        "  def __init__(self,name,age,complexion=\"fair\"):\n",
        "    self.name= name\n",
        "    self.age=age\n",
        "    self.complexion=complexion\n",
        "  def introduce(self):\n",
        "    print(\n",
        "        f\"\"\"My name is {self.name} & I am {self.age} years old. My complexion is {self.complexion}\n",
        "        \"\"\"\n",
        "    )"
      ],
      "metadata": {
        "id": "jgU5XnV1N8Fl"
      },
      "execution_count": null,
      "outputs": []
    },
    {
      "cell_type": "code",
      "source": [
        "h1 = Human('Sameer',22)\n",
        "h1.introduce()"
      ],
      "metadata": {
        "colab": {
          "base_uri": "https://localhost:8080/"
        },
        "id": "725NxzzJHLrN",
        "outputId": "9f91fa05-70ab-4176-839b-c4871d3f6bbe"
      },
      "execution_count": null,
      "outputs": [
        {
          "output_type": "stream",
          "name": "stdout",
          "text": [
            "My name is Sameer & I am 22 years old. My complexion is fair\n",
            "        \n"
          ]
        }
      ]
    },
    {
      "cell_type": "markdown",
      "source": [
        "# Magic Method"
      ],
      "metadata": {
        "id": "G1UTfPcFUGOr"
      }
    },
    {
      "cell_type": "code",
      "source": [
        "class Fraction():\n",
        "  def __init__(self,x,y):\n",
        "    self.nume=x\n",
        "    self.deno=y\n",
        "\n",
        "  def __str__(self):\n",
        "    return f\"{self.nume}/{self.deno}\"\n",
        "\n",
        "  def __add__(self,other):\n",
        "    new_nume = self.nume*other.deno+ other.nume*self.deno\n",
        "    new_deno = self.deno*other.deno\n",
        "    return f\"{new_nume}/{new_deno}\"\n",
        "\n",
        "  def __sub__(self,other):\n",
        "    new_nume = self.nume*other.deno- other.nume*self.deno\n",
        "    new_deno = self.deno*other.deno\n",
        "    return f\"{new_nume}/{new_deno}\"\n",
        "\n",
        "  def __mul__(self,other):\n",
        "    new_nume = self.nume*other.nume\n",
        "    new_deno = self.deno*other.deno\n",
        "    return f\"{new_nume}/{new_deno}\"\n",
        "\n",
        "  def __truediv__(self,other):\n",
        "    new_nume = self.nume*other.deno\n",
        "    new_deno = self.deno*other.nume\n",
        "    return f\"{new_nume}/{new_deno}\""
      ],
      "metadata": {
        "id": "7xH8y1aqUAkK"
      },
      "execution_count": null,
      "outputs": []
    },
    {
      "cell_type": "code",
      "source": [
        "obj = Fraction(1,2)\n",
        "obj2 = Fraction(2,3)\n",
        "print(obj+obj2)\n",
        "print(obj-obj2)\n",
        "print(obj*obj2)\n",
        "print(obj/obj2)"
      ],
      "metadata": {
        "colab": {
          "base_uri": "https://localhost:8080/"
        },
        "id": "pLCPNJZ0UWSx",
        "outputId": "84edc02d-3d1a-439c-d517-55cabc8757f8"
      },
      "execution_count": null,
      "outputs": [
        {
          "output_type": "stream",
          "name": "stdout",
          "text": [
            "7/6\n",
            "-1/6\n",
            "2/6\n",
            "3/4\n"
          ]
        }
      ]
    },
    {
      "cell_type": "code",
      "source": [],
      "metadata": {
        "id": "Pse66tZeVM1v"
      },
      "execution_count": null,
      "outputs": []
    },
    {
      "cell_type": "markdown",
      "source": [
        "# Q1: Write OOP classes to handle the following scenarios:\n",
        "\n",
        "A user can create and view 2D coordinates\n",
        "\n",
        "A user can find out the distance between 2 coordinates\n",
        "\n",
        "A user can find the distance of a coordinate from origin\n",
        "\n",
        "A user can check if a point lies on a given line\n",
        "\n",
        "A user can find the distance between a given 2D point and a given line"
      ],
      "metadata": {
        "id": "xjcE3P2UXDrN"
      }
    },
    {
      "cell_type": "code",
      "source": [
        "class Point:\n",
        "  def __init__(self,x,y):\n",
        "    self.x_cod = x\n",
        "    self.y_cod = y\n",
        "\n",
        "  def __str__(self):\n",
        "    return f\"<{self.x_cod},{self.y_cod}>\"\n",
        "\n",
        "  def euclidean_distance(self,other):\n",
        "    return ((self.x_cod-other.x_cod)**2 + (self.y_cod-other.y_cod)**2)**0.5\n",
        "\n",
        "  def distance_from_origin(self):\n",
        "    return self.euclidean_distance(Point(0,0))\n"
      ],
      "metadata": {
        "id": "eGpATDfhXfKZ"
      },
      "execution_count": null,
      "outputs": []
    },
    {
      "cell_type": "code",
      "source": [
        "p1 = Point(2,3)\n",
        "p2 = Point(-2,-3)\n",
        "print(p1)\n",
        "print(p2)\n",
        "\n",
        "# p1.euclidean_distance(p2)\n",
        "p1.distance_from_origin()"
      ],
      "metadata": {
        "colab": {
          "base_uri": "https://localhost:8080/"
        },
        "id": "7wK3XF46X-YQ",
        "outputId": "0bb8bdaf-c923-4c66-bdbc-2fa8b370c275"
      },
      "execution_count": null,
      "outputs": [
        {
          "output_type": "stream",
          "name": "stdout",
          "text": [
            "<2,3>\n",
            "<-2,-3>\n"
          ]
        },
        {
          "output_type": "execute_result",
          "data": {
            "text/plain": [
              "3.605551275463989"
            ]
          },
          "metadata": {},
          "execution_count": 22
        }
      ]
    },
    {
      "cell_type": "code",
      "source": [],
      "metadata": {
        "id": "nHCWLyjfYC5A"
      },
      "execution_count": null,
      "outputs": []
    },
    {
      "cell_type": "markdown",
      "source": [
        "# **Practice Problems**"
      ],
      "metadata": {
        "id": "jkexlKSmh0ua"
      }
    },
    {
      "cell_type": "markdown",
      "source": [
        "Q1: Rectangle Class\n",
        "        \n",
        "        1. Write a Rectangle class in Python language, allowing you to build a rectangle with length and width attributes.\n",
        "        \n",
        "        2. Create a Perimeter() method to calculate the perimeter of the rectangle and a Area() method to calculate the area of ​​the rectangle.\n",
        "        \n",
        "        3. Create a method display() that display the length, width, perimeter and area of an object created using an instantiation on rectangle class."
      ],
      "metadata": {
        "id": "QEpbd2njh7Ef"
      }
    },
    {
      "cell_type": "code",
      "source": [
        "class Rectangle:\n",
        "  def __init__(self,length, width):\n",
        "    self.__length = length\n",
        "    self.__width = width\n",
        "\n",
        "  def __perimeter(self):\n",
        "    return 2*(self.__length + self.__width)\n",
        "\n",
        "  def __area(self):\n",
        "    return self.__length * self.__width\n",
        "\n",
        "  def display(self):\n",
        "    print(f\"\"\"\"\n",
        "          Length: {self.__length}\n",
        "          Width: {self.__width}\n",
        "          Perimeter: {self.__perimeter()}\n",
        "          Area: {self.__area()}\n",
        "    \"\"\")"
      ],
      "metadata": {
        "id": "ECRXQxhSiUX2"
      },
      "execution_count": null,
      "outputs": []
    },
    {
      "cell_type": "code",
      "source": [
        "r1 = Rectangle(4,5)\n",
        "r1.display()"
      ],
      "metadata": {
        "colab": {
          "base_uri": "https://localhost:8080/"
        },
        "id": "Z7iBFp2Hi6oj",
        "outputId": "8854553a-64bd-4e07-9300-ed8047394088"
      },
      "execution_count": null,
      "outputs": [
        {
          "output_type": "stream",
          "name": "stdout",
          "text": [
            "\"\n",
            "          Length: 4\n",
            "          Width: 5\n",
            "          Perimeter: 18\n",
            "          Area: 20\n",
            "    \n"
          ]
        }
      ]
    },
    {
      "cell_type": "markdown",
      "source": [
        "Q2: Bank Class\n",
        "\n",
        "        1. Create a Python class called `BankAccount` which represents a bank account, having as attributes: `accountNumber` (numeric type), `name` (name of the account owner as string type), `balance`.\n",
        "        2. Create a constructor with parameters: `accountNumber, name, balance`.\n",
        "        3. Create a `Deposit()` method which manages the deposit actions.\n",
        "        4. Create a `Withdrawal()` method  which manages withdrawals actions.\n",
        "        5. Create an `bankFees()` method to apply the bank fees with a percentage of 5% of the balance account.\n",
        "        6. Create a `display()` method to display account details.\n",
        "        \"Give the complete code for the  BankAccount class.\""
      ],
      "metadata": {
        "id": "IP-oWb44lBIK"
      }
    },
    {
      "cell_type": "code",
      "source": [
        "class BankAccount:\n",
        "  def __init__(self, accountNum, name=\"\", balance=0):\n",
        "    self.__accountNum = accountNum\n",
        "    self.__name = name\n",
        "    self.__balance = balance\n",
        "  def deposit(self,amount):\n",
        "    self.__balance += amount\n",
        "  def withdraw(self,amount):\n",
        "    if(amount>self.__balance):\n",
        "      print(\"Insufficient funds\")\n",
        "    else:\n",
        "      self.__balance = self.__balance - amount\n",
        "      print(f\"{amount} has been withdrawn and your current balance is {self.__balance}\")\n",
        "  def bankFee(self):\n",
        "    return self.__balance*0.05\n",
        "\n",
        "  def display(self):\n",
        "     print(f\"\"\"\"\n",
        "          AccountNum: {self.__accountNum}\n",
        "          Name: {self.__name}\n",
        "          Balance: {self.__balance}\n",
        "\n",
        "    \"\"\")\n",
        "\n",
        "\n",
        "\n"
      ],
      "metadata": {
        "id": "6KIU-kThk2Lp"
      },
      "execution_count": null,
      "outputs": []
    },
    {
      "cell_type": "code",
      "source": [
        "ac1 = BankAccount(\"A01\",\"Sameer\",1000)\n",
        "ac1.deposit(6000)\n",
        "ac1.withdraw(5000)\n",
        "ac1.display()"
      ],
      "metadata": {
        "colab": {
          "base_uri": "https://localhost:8080/"
        },
        "id": "A2-1lkMMolws",
        "outputId": "6c97b275-4118-471b-f513-1c2b0ac649b4"
      },
      "execution_count": null,
      "outputs": [
        {
          "output_type": "stream",
          "name": "stdout",
          "text": [
            "5000 has been withdrawn and your current balance is 2000\n",
            "\"\n",
            "          AccountNum: A01\n",
            "          Name: Sameer\n",
            "          Balance: 2000\n",
            "          \n",
            "    \n"
          ]
        }
      ]
    },
    {
      "cell_type": "markdown",
      "source": [
        "Q3: Computation class:\n",
        "        \n",
        "        1. Create a `Computation` class with a default constructor (without parameters) allowing to perform various calculations on integers numbers.\n",
        "        \n",
        "        2. Create a method called `Factorial()` which allows to calculate the factorial of an integer n. Integer n as parameter for this method.\n",
        "\n",
        "        3. Create a method called `naturalSum()` allowing to calculate the sum of the first n integers 1 + 2 + 3 + .. + n. Integer n as parameter for this method.\n",
        "\n",
        "        4. Create a method called `testPrime()` in  the Calculation class to test the primality of a given integer n, n is Prime or Not? Integer n as parameter for this method.\n",
        "\n",
        "        5. Create  a method called `testPrims()` allowing to test if two numbers are prime between them. Two integers are prime to one another if they have only `1` as their common divisor. Eg. 4 and 9 are prime to each other.\n",
        "\n",
        "        5. Create a `tableMult()` method which creates and displays the multiplication table of a given integer. Then create an `allTablesMult()` method to display all the integer multiplication tables 1, 2, 3, ..., 9.\n",
        "\n",
        "        6. Create a static `listDiv()` method that gets all the divisors of a given integer on new list called  Ldiv. Create another `listDivPrim()` method that gets all the prime divisors of a given integer."
      ],
      "metadata": {
        "id": "_T545U2SpdkM"
      }
    },
    {
      "cell_type": "code",
      "source": [
        "class Computation:\n",
        "  def factorial(self,n):\n",
        "    fact = 1\n",
        "    for i in range(1,n+1):\n",
        "      fact = fact*i\n",
        "    return fact\n",
        "\n",
        "  def naturalSum(self,n):\n",
        "    sum = 0\n",
        "    for i in range(1,n+1):\n",
        "      sum = sum +i\n",
        "    return sum\n",
        "\n",
        "  def testPrime(self, n):\n",
        "    for i in range(2,n):\n",
        "      if(n%i==0):\n",
        "        return \"Not Prime\"\n",
        "\n",
        "    return \"Prime\"\n",
        "\n",
        "  def testPrimes(self,n1,n2):\n",
        "    for i in range(2,n1):\n",
        "      if(n1%i==0):\n",
        "        n1 = False\n",
        "    for i in range(2,n2):\n",
        "      if(n2%i==0):\n",
        "        n2 = False\n",
        "    if(n1 and n2):\n",
        "      return \"Prime\"\n",
        "    else:\n",
        "      return \"Not prime\"\n",
        "\n",
        "  def listDiv(n):\n",
        "    Ldiv=[]\n",
        "    for i in range(1,n+1):\n",
        "      if(n%i==0):\n",
        "        Ldiv.append(i)\n",
        "    return Ldiv\n",
        "\n",
        "\n",
        "\n"
      ],
      "metadata": {
        "id": "17BNJ0fdoxNT"
      },
      "execution_count": null,
      "outputs": []
    },
    {
      "cell_type": "code",
      "source": [
        "c1 = Computation()\n",
        "# c1.factorial(6)\n",
        "# c1.naturalSum(4)\n",
        "# c1.testPrime(23)\n",
        "# c1.testPrimes(4,11)\n",
        "Computation.listDiv(40)"
      ],
      "metadata": {
        "colab": {
          "base_uri": "https://localhost:8080/"
        },
        "id": "EJUQfSfBrz8Q",
        "outputId": "2c347b34-fc4d-4a8a-abd4-c4f7cf9652ca"
      },
      "execution_count": null,
      "outputs": [
        {
          "output_type": "execute_result",
          "data": {
            "text/plain": [
              "[1, 2, 4, 5, 8, 10, 20, 40]"
            ]
          },
          "metadata": {},
          "execution_count": 53
        }
      ]
    },
    {
      "cell_type": "markdown",
      "source": [
        "Q4: Build flashcard using class in Python.\n",
        "        \n",
        "        Build a flashcard using class in python. A flashcard is a card having information on both sides, which can be used as an aid in memoization. Flashcards usually have a question on one side and an answer on the other.\n",
        "        \"**Example 1:**\n",
        "      \n",
        "        Approach:\n",
        "        - Create a class named FlashCard.\n",
        "        - Initialize dictionary fruits using __init__() method. Here you have to define fruit name as key and it's color as value. E.g., {\\\"Banana\\\": \\\"yellow\\\", \\\"Strawberries\\\": \\\"pink\\\"}\n",
        "        - Now randomly choose a pair from fruits by using _random_ module and store the key in variable _fruit_ and _value_ in variable color.\n",
        "        - Now prompt the user to answer the color of the randomly chosen fruit.\n",
        "        - If correct print correct else print wrong.\n",
        "        \n",
        "        Output:\n",
        "        welcome to fruit quiz\n",
        "        What is the color of Strawberries\n",
        "        \"pink\"\n",
        "        \"Correct answer\"\n",
        "        \"Enter 0, if you want to play again: 0\"\n",
        "        \"What is the color of watermelon\"\n",
        "        \"green\"\n",
        "        \"Correct answer\"\n",
        "        \"Enter 0, if you want to play again: 1\""
      ],
      "metadata": {
        "id": "fpLAklHZ1Ns2"
      }
    },
    {
      "cell_type": "code",
      "source": [
        "import random\n",
        "\n",
        "class FlashCard:\n",
        "  def __init__(self):\n",
        "    self.__fruits = {'apple':'red','banana':'yellow','grape':'green'}\n",
        "\n",
        "  def quiz(self):\n",
        "    while True:\n",
        "      fruit, color = random.choice(list(self.__fruits.items()))\n",
        "      print(f\"What is the color of {fruit}\")\n",
        "      ans = input()\n",
        "\n",
        "      if(ans == color):\n",
        "        print(\"Correct\")\n",
        "      else:\n",
        "        print(\"Incorrect\")\n",
        "\n",
        "      opt = int(input(\"Press 0 to play again, 1 to exit\"))\n",
        "\n",
        "      if opt:\n",
        "        break\n",
        ""
      ],
      "metadata": {
        "id": "eZNrTpuir67e"
      },
      "execution_count": 13,
      "outputs": []
    },
    {
      "cell_type": "code",
      "source": [
        "fc = FlashCard()\n",
        "fc.quiz()"
      ],
      "metadata": {
        "colab": {
          "base_uri": "https://localhost:8080/"
        },
        "id": "liBPl5O-JbHH",
        "outputId": "c2d051ad-56ce-4d04-a7d3-a86a29337fb6"
      },
      "execution_count": 14,
      "outputs": [
        {
          "name": "stdout",
          "output_type": "stream",
          "text": [
            "What is the color of apple\n",
            "red\n",
            "Correct\n",
            "Press 0 to play again, 1 to exit0\n",
            "What is the color of apple\n",
            "red\n",
            "Correct\n",
            "Press 0 to play again, 1 to exit0\n",
            "What is the color of apple\n",
            "red\n",
            "Correct\n",
            "Press 0 to play again, 1 to exit0\n",
            "What is the color of banana\n",
            "green\n",
            "Incorrect\n",
            "Press 0 to play again, 1 to exit1\n"
          ]
        }
      ]
    },
    {
      "cell_type": "markdown",
      "source": [
        "Q5: Problem 5 based on OOP Python.\n",
        "\n",
        "        TechWorld, a technology training center, wants to allocate courses for instructors. An instructor is identified by name, technology skills, experience and average feedback. An instructor is allocated a course, if he/she satisfies the below two conditions:\n",
        "\n",
        "        - eligibility criteria:\n",
        "            - if experience is more than 3 years, average feedback should be 4.5 or more\n",
        "\n",
        "            - if experience is 3 years or less, average feedback should be 4 or more\n",
        "\n",
        "        - he/she should posses the technology skill for the course\n",
        "\n",
        "        Identify the class name and attributes to represent instructors. Write a Python program to implement the class chosen with its attributes and methods.\n",
        "\n",
        "        \"**Note:**\n",
        "        - Consider all instance variables to be private and methods to be public.\n",
        "\n",
        "        - An instructor may have multiple technology skills, so consider instance variable, technology_skill to be a list.\n",
        "\n",
        "        - *check_eligibility()*: Return true if eligibility criteria is satisfied by the instructor. Else, return false\n",
        "\n",
        "        - *allocate_course(technology)*: Return true if the course which requires the given technology can be allocated to the instructor. Else, return false.\n",
        "\n",
        "        Represent a few objects of the class, initialize instance variables using setter methods, invoke\n",
        "        appropriate methods and test your program."
      ],
      "metadata": {
        "id": "p0NlFekkqddK"
      }
    },
    {
      "cell_type": "code",
      "source": [
        "class Instructor:\n",
        "  def __init__(self,name,technology,experience,feedback):\n",
        "    self.__name = name\n",
        "    self.__technology = technology\n",
        "    self.__experience = experience\n",
        "    self.__feedback = feedback\n",
        "\n",
        "  # Method to check eligibility of instructor\n",
        "  def check_eligibility(self):\n",
        "    if self.__experience >= 3 and self.__feedback >= 4.5:\n",
        "      return True\n",
        "    elif self.__experience <= 3 and self.__feedback >= 4:\n",
        "      return True\n",
        "    else:\n",
        "      return False\n",
        "  def allocate_course(self,tech):\n",
        "    is_eligible = self.check_eligibility()\n",
        "    if is_eligible:\n",
        "      if tech in self.__technology:\n",
        "        return \"Padha sakta hai\"\n",
        "      else:\n",
        "        return \"Ye tw isko aata hi nhi hai\"\n",
        "    else:\n",
        "      return \"Nhi padha sakta\""
      ],
      "metadata": {
        "id": "Snr2xdFjOq_a"
      },
      "execution_count": 21,
      "outputs": []
    },
    {
      "cell_type": "code",
      "source": [
        "inst = Instructor(\"Sameer\",[\"DSA\",\"Web development\", \"Mobile app dev\",\"Data science\"],4,4.9)\n",
        "inst.allocate_course(\"DSA\")"
      ],
      "metadata": {
        "colab": {
          "base_uri": "https://localhost:8080/",
          "height": 35
        },
        "id": "iaS0m_A2rsZ5",
        "outputId": "8b1914e9-2ad2-4b1e-fedf-4676c89d39c3"
      },
      "execution_count": 22,
      "outputs": [
        {
          "output_type": "execute_result",
          "data": {
            "text/plain": [
              "'Padha sakta hai'"
            ],
            "application/vnd.google.colaboratory.intrinsic+json": {
              "type": "string"
            }
          },
          "metadata": {},
          "execution_count": 22
        }
      ]
    },
    {
      "cell_type": "code",
      "source": [],
      "metadata": {
        "id": "wvdhuFgmxrOh"
      },
      "execution_count": null,
      "outputs": []
    }
  ]
}