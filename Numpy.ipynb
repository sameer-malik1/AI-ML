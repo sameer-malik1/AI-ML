{
  "nbformat": 4,
  "nbformat_minor": 0,
  "metadata": {
    "colab": {
      "provenance": [],
      "authorship_tag": "ABX9TyNAsSQJypwa2TXh3dHpZKn4",
      "include_colab_link": true
    },
    "kernelspec": {
      "name": "python3",
      "display_name": "Python 3"
    },
    "language_info": {
      "name": "python"
    }
  },
  "cells": [
    {
      "cell_type": "markdown",
      "metadata": {
        "id": "view-in-github",
        "colab_type": "text"
      },
      "source": [
        "<a href=\"https://colab.research.google.com/github/sameer-malik1/AI-ML/blob/main/Numpy.ipynb\" target=\"_parent\"><img src=\"https://colab.research.google.com/assets/colab-badge.svg\" alt=\"Open In Colab\"/></a>"
      ]
    },
    {
      "cell_type": "markdown",
      "source": [
        "# Creating Numpy Array"
      ],
      "metadata": {
        "id": "Ggifts1F8pp_"
      }
    },
    {
      "cell_type": "code",
      "source": [
        "# importing numpy\n",
        "import numpy as np\n",
        "\n",
        "# creating a numpy array\n",
        "a = np.array([1,2,3])\n",
        "print(type(a))\n",
        "\n",
        "# creating 2D and 3D array\n",
        "b = np.array([[1,2,3],[4,5,6]])\n",
        "print(\"2D Array\",b)\n",
        "\n",
        "c = np.array([[[1,2,3],[4,5,6],[7,8,9]]])\n",
        "print(\"3D Array: \",c)"
      ],
      "metadata": {
        "colab": {
          "base_uri": "https://localhost:8080/"
        },
        "id": "9Ol1LQkB8tWA",
        "outputId": "557415a9-5536-4f97-8f41-7357c72af2e2"
      },
      "execution_count": 4,
      "outputs": [
        {
          "output_type": "stream",
          "name": "stdout",
          "text": [
            "<class 'numpy.ndarray'>\n",
            "2D Array [[1 2 3]\n",
            " [4 5 6]]\n",
            "3D Array:  [[[1 2 3]\n",
            "  [4 5 6]\n",
            "  [7 8 9]]]\n"
          ]
        }
      ]
    },
    {
      "cell_type": "code",
      "source": [
        "# dtype\n",
        "boolArray = np.array([1,2,3], dtype=bool)\n",
        "print(boolArray)\n",
        "\n",
        "floatArray = np.array([1,2,3], dtype = float)\n",
        "print(floatArray)\n",
        "\n",
        "complexArray = np.array([1,2,3],dtype=complex)\n",
        "print(complexArray)\n"
      ],
      "metadata": {
        "colab": {
          "base_uri": "https://localhost:8080/"
        },
        "id": "-_5fWK8e8z8_",
        "outputId": "0a1309e9-364b-40fc-fb37-4147104a8753"
      },
      "execution_count": 8,
      "outputs": [
        {
          "output_type": "stream",
          "name": "stdout",
          "text": [
            "[ True  True  True]\n",
            "[1. 2. 3.]\n",
            "[1.+0.j 2.+0.j 3.+0.j]\n"
          ]
        }
      ]
    },
    {
      "cell_type": "code",
      "source": [
        "# arange -> it defines the array starts from 1 and goes till range\n",
        "np.arange(1,11)\n",
        "\n",
        "# reshape -> it can change the order of defined numpy array\n",
        "np.arange(1,16).reshape(3,5)"
      ],
      "metadata": {
        "colab": {
          "base_uri": "https://localhost:8080/"
        },
        "id": "xsDK1dYi-l7h",
        "outputId": "9d59af58-15bc-4704-e4a8-c0f3e16131cb"
      },
      "execution_count": 12,
      "outputs": [
        {
          "output_type": "execute_result",
          "data": {
            "text/plain": [
              "array([[ 1,  2,  3,  4,  5],\n",
              "       [ 6,  7,  8,  9, 10],\n",
              "       [11, 12, 13, 14, 15]])"
            ]
          },
          "metadata": {},
          "execution_count": 12
        }
      ]
    },
    {
      "cell_type": "code",
      "source": [
        "# creating the array of ones and zeros\n",
        "np.ones((3,4))\n",
        "\n",
        "np.zeros((3,4))"
      ],
      "metadata": {
        "colab": {
          "base_uri": "https://localhost:8080/"
        },
        "id": "eH2jlg3F_Q9Z",
        "outputId": "4311a72d-144a-4fd0-e49a-b85e089c5a64"
      },
      "execution_count": 14,
      "outputs": [
        {
          "output_type": "execute_result",
          "data": {
            "text/plain": [
              "array([[0., 0., 0., 0.],\n",
              "       [0., 0., 0., 0.],\n",
              "       [0., 0., 0., 0.]])"
            ]
          },
          "metadata": {},
          "execution_count": 14
        }
      ]
    },
    {
      "cell_type": "code",
      "source": [
        "# generating random numbers and random numbers array\n",
        "import random\n",
        "ranNum = random.random()\n",
        "print(\"Random # \",ranNum)\n",
        "\n",
        "ranArray = np.random.random((3,4))\n",
        "print(\"Random Array of 3 x 4: \\n\",ranArray)"
      ],
      "metadata": {
        "colab": {
          "base_uri": "https://localhost:8080/"
        },
        "id": "ueqPe3s5AzN0",
        "outputId": "150dcf34-4635-4de6-93b3-7a117f6973a7"
      },
      "execution_count": 18,
      "outputs": [
        {
          "output_type": "stream",
          "name": "stdout",
          "text": [
            "Random #  0.24288868116602147\n",
            "Random Array of 3 x 4: \n",
            " [[0.8321604  0.38339681 0.23956468 0.62305894]\n",
            " [0.02938839 0.69692675 0.87097821 0.0408994 ]\n",
            " [0.03988161 0.04513001 0.92125516 0.58755927]]\n"
          ]
        }
      ]
    },
    {
      "cell_type": "code",
      "source": [
        "# linspace -> used to create linear array of equidistant numbers np.linspace(startingNum,endingNum,numbersBetweenRanges)\n",
        "np.linspace(-10,10,5)\n",
        "\n",
        "# np.identity() -> creating identity matrix\n",
        "np.identity(5)\n"
      ],
      "metadata": {
        "colab": {
          "base_uri": "https://localhost:8080/"
        },
        "id": "APvsHA6FBkoX",
        "outputId": "77a90261-d32e-47dc-d578-3d51024cdc71"
      },
      "execution_count": 21,
      "outputs": [
        {
          "output_type": "execute_result",
          "data": {
            "text/plain": [
              "array([[1., 0., 0., 0., 0.],\n",
              "       [0., 1., 0., 0., 0.],\n",
              "       [0., 0., 1., 0., 0.],\n",
              "       [0., 0., 0., 1., 0.],\n",
              "       [0., 0., 0., 0., 1.]])"
            ]
          },
          "metadata": {},
          "execution_count": 21
        }
      ]
    },
    {
      "cell_type": "code",
      "source": [
        "# ndim -> finding the dimension of an array\n",
        "np.ndim(np.array([1,3,5]))\n",
        "np.ndim(np.array([[1,2],[3,4]]))"
      ],
      "metadata": {
        "colab": {
          "base_uri": "https://localhost:8080/"
        },
        "id": "yZkVvbDpC2ml",
        "outputId": "7824e747-84bf-4f14-ea1c-829afd921503"
      },
      "execution_count": 23,
      "outputs": [
        {
          "output_type": "execute_result",
          "data": {
            "text/plain": [
              "2"
            ]
          },
          "metadata": {},
          "execution_count": 23
        }
      ]
    },
    {
      "cell_type": "code",
      "source": [
        "# shape -> finding how many elements in each of dimensions\n",
        "np.shape(np.array([[1,2,3,4],[5,6,7,8]]))"
      ],
      "metadata": {
        "colab": {
          "base_uri": "https://localhost:8080/"
        },
        "id": "VkhYOPocEYRE",
        "outputId": "3d7428ad-e331-4a9f-ff19-a9be5ada378a"
      },
      "execution_count": 28,
      "outputs": [
        {
          "output_type": "execute_result",
          "data": {
            "text/plain": [
              "(2, 4)"
            ]
          },
          "metadata": {},
          "execution_count": 28
        }
      ]
    },
    {
      "cell_type": "code",
      "source": [
        "# size -> finding how many number of elements present in array\n",
        "np.size(np.ones((3,4)))"
      ],
      "metadata": {
        "colab": {
          "base_uri": "https://localhost:8080/"
        },
        "id": "FMxeqNZeFDt_",
        "outputId": "de7db457-8506-4a7e-b117-93b79d7d5e7e"
      },
      "execution_count": 31,
      "outputs": [
        {
          "output_type": "execute_result",
          "data": {
            "text/plain": [
              "12"
            ]
          },
          "metadata": {},
          "execution_count": 31
        }
      ]
    },
    {
      "cell_type": "code",
      "source": [
        "# itemsize -> an attribute to find the site of item\n",
        "np.array([1,2,3]).itemsize\n",
        "\n",
        "# dtype -> an attribute to find data type of np array\n",
        "np.array([1,2,3]).dtype"
      ],
      "metadata": {
        "colab": {
          "base_uri": "https://localhost:8080/"
        },
        "id": "4fXM5dalFthy",
        "outputId": "527e1e86-b60a-4ef5-ee87-3213fa5c1f0d"
      },
      "execution_count": 36,
      "outputs": [
        {
          "output_type": "execute_result",
          "data": {
            "text/plain": [
              "dtype('int64')"
            ]
          },
          "metadata": {},
          "execution_count": 36
        }
      ]
    },
    {
      "cell_type": "markdown",
      "source": [
        "Changing datatypes"
      ],
      "metadata": {
        "id": "SEc-qe9IIH0E"
      }
    },
    {
      "cell_type": "code",
      "source": [
        "ages = np.array([18,19,20,22,24,25,27,30,40,50,60,70,85,93,99,110])\n",
        "print(ages.dtype)\n",
        "ages.astype(np.int32)"
      ],
      "metadata": {
        "colab": {
          "base_uri": "https://localhost:8080/"
        },
        "id": "LhNwIoQNGh3T",
        "outputId": "9a874347-b55e-42e8-d25c-d55dfc53199b"
      },
      "execution_count": 41,
      "outputs": [
        {
          "output_type": "stream",
          "name": "stdout",
          "text": [
            "int64\n",
            "int64\n"
          ]
        }
      ]
    },
    {
      "cell_type": "markdown",
      "source": [
        "# Numpy Array Operations"
      ],
      "metadata": {
        "id": "xY_VjwSfJjeo"
      }
    },
    {
      "cell_type": "code",
      "source": [
        "a1 = np.arange(12).reshape(3,4)\n",
        "a2 = np.arange(12,24).reshape(3,4)\n",
        "\n",
        "a2"
      ],
      "metadata": {
        "colab": {
          "base_uri": "https://localhost:8080/"
        },
        "id": "qn_80SPqImom",
        "outputId": "a0f9972f-daad-4d6a-fa4b-2ddd6017ec19"
      },
      "execution_count": 46,
      "outputs": [
        {
          "output_type": "execute_result",
          "data": {
            "text/plain": [
              "array([[12, 13, 14, 15],\n",
              "       [16, 17, 18, 19],\n",
              "       [20, 21, 22, 23]])"
            ]
          },
          "metadata": {},
          "execution_count": 46
        }
      ]
    },
    {
      "cell_type": "code",
      "source": [
        "# Scaler operations\n",
        "\n",
        "# Arithmatic\n",
        "print(a1 * 2)\n",
        "print(a1 / 2)\n",
        "print(a1 + 2)\n",
        "print(a1 - 2)\n",
        "\n",
        "\n",
        "# Relational: ==/<=/>=/!=\n",
        "a1 > 3\n"
      ],
      "metadata": {
        "colab": {
          "base_uri": "https://localhost:8080/"
        },
        "id": "vN-h-qvhJuR2",
        "outputId": "638dcd20-e4bd-49f6-aaa9-bfe8b54398e8"
      },
      "execution_count": 50,
      "outputs": [
        {
          "output_type": "stream",
          "name": "stdout",
          "text": [
            "[[ 0  2  4  6]\n",
            " [ 8 10 12 14]\n",
            " [16 18 20 22]]\n",
            "[[0.  0.5 1.  1.5]\n",
            " [2.  2.5 3.  3.5]\n",
            " [4.  4.5 5.  5.5]]\n",
            "[[ 2  3  4  5]\n",
            " [ 6  7  8  9]\n",
            " [10 11 12 13]]\n",
            "[[-2 -1  0  1]\n",
            " [ 2  3  4  5]\n",
            " [ 6  7  8  9]]\n"
          ]
        },
        {
          "output_type": "execute_result",
          "data": {
            "text/plain": [
              "array([[False, False, False, False],\n",
              "       [ True,  True,  True,  True],\n",
              "       [ True,  True,  True,  True]])"
            ]
          },
          "metadata": {},
          "execution_count": 50
        }
      ]
    },
    {
      "cell_type": "code",
      "source": [
        "# Vector Operations: operations between two numpy arrays of same order\n",
        "\n",
        "# Arithmatic\n",
        "a1 + a2\n",
        "a1 * a2"
      ],
      "metadata": {
        "colab": {
          "base_uri": "https://localhost:8080/"
        },
        "id": "Xy-9HXdzKlNF",
        "outputId": "024f6bf1-4dbf-47b9-a92c-f703b4444391"
      },
      "execution_count": 52,
      "outputs": [
        {
          "output_type": "execute_result",
          "data": {
            "text/plain": [
              "array([[  0,  13,  28,  45],\n",
              "       [ 64,  85, 108, 133],\n",
              "       [160, 189, 220, 253]])"
            ]
          },
          "metadata": {},
          "execution_count": 52
        }
      ]
    },
    {
      "cell_type": "markdown",
      "source": [
        "# Numpy Array Functions"
      ],
      "metadata": {
        "id": "VZ30QrgUNRIf"
      }
    },
    {
      "cell_type": "code",
      "source": [
        "a1 = np.random.random((3,3))\n",
        "a1 = np.round(a1*100)\n",
        "print(a1)"
      ],
      "metadata": {
        "colab": {
          "base_uri": "https://localhost:8080/"
        },
        "id": "BHzJBE8pLlUP",
        "outputId": "9ded0759-b0ef-456b-fa7d-8fe1f4285fba"
      },
      "execution_count": 64,
      "outputs": [
        {
          "output_type": "stream",
          "name": "stdout",
          "text": [
            "[[95. 65. 11.]\n",
            " [94. 33. 24.]\n",
            " [78. 62. 72.]]\n"
          ]
        }
      ]
    },
    {
      "cell_type": "code",
      "source": [
        "# max/min/sum/prod\n",
        "# 0 -> col , 1 -> row\n",
        "np.max(a1,axis=0)"
      ],
      "metadata": {
        "colab": {
          "base_uri": "https://localhost:8080/"
        },
        "id": "5GQhudQUODzv",
        "outputId": "7e7adf74-4acd-4e04-e58c-be5ec1cee955"
      },
      "execution_count": 65,
      "outputs": [
        {
          "output_type": "execute_result",
          "data": {
            "text/plain": [
              "array([95., 65., 72.])"
            ]
          },
          "metadata": {},
          "execution_count": 65
        }
      ]
    },
    {
      "cell_type": "code",
      "source": [
        "# mean/med/std/var\n",
        "print(np.mean(a1))\n",
        "print(np.median(a1))\n",
        "print(np.std(a1))\n",
        "print(np.var(a1))"
      ],
      "metadata": {
        "colab": {
          "base_uri": "https://localhost:8080/"
        },
        "id": "C5GsWtryOTKZ",
        "outputId": "6c998229-7029-442d-ebbd-e4c9ea51ad0e"
      },
      "execution_count": 74,
      "outputs": [
        {
          "output_type": "stream",
          "name": "stdout",
          "text": [
            "59.333333333333336\n",
            "65.0\n",
            "28.480012484391768\n",
            "811.111111111111\n"
          ]
        }
      ]
    },
    {
      "cell_type": "code",
      "source": [
        "# dot product\n",
        "mat1 = np.arange(1,13).reshape(3,4)\n",
        "mat2 = np.arange(13,25).reshape(4,3)\n",
        "\n",
        "np.dot(mat1,mat2)  # note: no of col of 1st matrix = no of rows of 2nd matrix"
      ],
      "metadata": {
        "colab": {
          "base_uri": "https://localhost:8080/"
        },
        "id": "4mCPCGYgPxlk",
        "outputId": "55847391-fe68-4dbe-d1dd-d5a80a25c3b4"
      },
      "execution_count": 76,
      "outputs": [
        {
          "output_type": "execute_result",
          "data": {
            "text/plain": [
              "array([[190, 200, 210],\n",
              "       [470, 496, 522],\n",
              "       [750, 792, 834]])"
            ]
          },
          "metadata": {},
          "execution_count": 76
        }
      ]
    },
    {
      "cell_type": "code",
      "source": [
        "# log and exp\n",
        "np.exp(a1)"
      ],
      "metadata": {
        "colab": {
          "base_uri": "https://localhost:8080/"
        },
        "id": "CRmvgOreRfEe",
        "outputId": "df9a1c78-a46f-4fa9-8f98-3d1eaa9347e5"
      },
      "execution_count": 77,
      "outputs": [
        {
          "output_type": "execute_result",
          "data": {
            "text/plain": [
              "array([[1.81123908e+41, 1.69488924e+28, 5.98741417e+04],\n",
              "       [6.66317622e+40, 2.14643580e+14, 2.64891221e+10],\n",
              "       [7.49841700e+33, 8.43835667e+26, 1.85867175e+31]])"
            ]
          },
          "metadata": {},
          "execution_count": 77
        }
      ]
    },
    {
      "cell_type": "code",
      "source": [
        "# floor/round/ceil\n",
        "np.round(np.random.random((3,3))*100)"
      ],
      "metadata": {
        "colab": {
          "base_uri": "https://localhost:8080/"
        },
        "id": "f_vJpEFmSkU1",
        "outputId": "71420193-f94c-4920-e74e-410028a60abd"
      },
      "execution_count": 86,
      "outputs": [
        {
          "output_type": "execute_result",
          "data": {
            "text/plain": [
              "array([[51., 80., 72.],\n",
              "       [ 7., 76., 56.],\n",
              "       [18., 81., 54.]])"
            ]
          },
          "metadata": {},
          "execution_count": 86
        }
      ]
    },
    {
      "cell_type": "code",
      "source": [
        "# indexing and slicing\n",
        "arr1 = np.arange(24).reshape(4,6)\n",
        "print(arr1[1,1])\n",
        "\n",
        "# Fancy indexing\n",
        "print(arr1[[0,2,3]]) # taking specific rows from 2d array\n",
        "\n",
        "print(arr1[:,[0,1,5]]) # : refers to all of the rows, [0,1,5] shows the specific cols\n",
        "\n",
        "\n",
        "# Boolean Indexing\n",
        "import random\n",
        "arr2 = np.random.randint(1,100,24).reshape(4,6)\n",
        "arr2>30 # boolean array\n",
        "arr2[arr2>30 ] # it is called boolean masking\n",
        "arr2[(arr2>20) & (arr2%2 ==0)] # note: always use bitwise and(&) while dealing with boolean values\n",
        "arr2[~(arr2%2==0)]\n"
      ],
      "metadata": {
        "colab": {
          "base_uri": "https://localhost:8080/"
        },
        "id": "Wz5zhGOJSylL",
        "outputId": "e19887ab-70a8-49cf-c96f-d8d4b2fe157a"
      },
      "execution_count": 144,
      "outputs": [
        {
          "output_type": "stream",
          "name": "stdout",
          "text": [
            "7\n",
            "[[ 0  1  2  3  4  5]\n",
            " [12 13 14 15 16 17]\n",
            " [18 19 20 21 22 23]]\n",
            "[[ 0  1  5]\n",
            " [ 6  7 11]\n",
            " [12 13 17]\n",
            " [18 19 23]]\n"
          ]
        },
        {
          "output_type": "execute_result",
          "data": {
            "text/plain": [
              "array([69, 95, 87, 37, 41, 25, 87, 73, 91, 99, 21])"
            ]
          },
          "metadata": {},
          "execution_count": 144
        }
      ]
    },
    {
      "cell_type": "code",
      "source": [
        "# Transpose\n",
        "iMatrix = np.array([[1,2,3],[4,5,6]])\n",
        "np.transpose(iMatrix)\n",
        "\n",
        "# converting any dimention Matrix to 1D array\n",
        "np.ravel(iMatrix)"
      ],
      "metadata": {
        "colab": {
          "base_uri": "https://localhost:8080/"
        },
        "id": "lxBQyQQmqUf7",
        "outputId": "85c2c7bd-3dec-4a10-d2fb-47c733d15165"
      },
      "execution_count": 90,
      "outputs": [
        {
          "output_type": "execute_result",
          "data": {
            "text/plain": [
              "array([1, 2, 3, 4, 5, 6])"
            ]
          },
          "metadata": {},
          "execution_count": 90
        }
      ]
    },
    {
      "cell_type": "markdown",
      "source": [
        "**Stacking**"
      ],
      "metadata": {
        "id": "w4EzAFGx2lFI"
      }
    },
    {
      "cell_type": "code",
      "source": [
        "# Horizontal stacking\n",
        "arr1 = np.arange(1,13).reshape(3,4)\n",
        "arr2 = np.arange(13,25).reshape(3,4)\n",
        "\n",
        "stackedArray = np.hstack((arr1,arr2))\n",
        "stackedArray"
      ],
      "metadata": {
        "colab": {
          "base_uri": "https://localhost:8080/"
        },
        "id": "1PYM722OqoqI",
        "outputId": "13027755-9a98-4a7d-d256-77b22a872e8f"
      },
      "execution_count": 93,
      "outputs": [
        {
          "output_type": "execute_result",
          "data": {
            "text/plain": [
              "array([[ 1,  2,  3,  4, 13, 14, 15, 16],\n",
              "       [ 5,  6,  7,  8, 17, 18, 19, 20],\n",
              "       [ 9, 10, 11, 12, 21, 22, 23, 24]])"
            ]
          },
          "metadata": {},
          "execution_count": 93
        }
      ]
    },
    {
      "cell_type": "code",
      "source": [
        "# Vertical stacking\n",
        "vStackedArray = np.vstack((arr1,arr2))\n",
        "print(vStackedArray)"
      ],
      "metadata": {
        "colab": {
          "base_uri": "https://localhost:8080/"
        },
        "id": "hVmdhutM26Jj",
        "outputId": "d368886c-0ad1-471f-d767-d10b3bc6eeaa"
      },
      "execution_count": 95,
      "outputs": [
        {
          "output_type": "stream",
          "name": "stdout",
          "text": [
            "[[ 1  2  3  4]\n",
            " [ 5  6  7  8]\n",
            " [ 9 10 11 12]\n",
            " [13 14 15 16]\n",
            " [17 18 19 20]\n",
            " [21 22 23 24]]\n"
          ]
        }
      ]
    },
    {
      "cell_type": "markdown",
      "source": [
        "**Splitting**"
      ],
      "metadata": {
        "id": "lZh3WAov8Ng9"
      }
    },
    {
      "cell_type": "code",
      "source": [
        "# Horizontal splitting\n",
        "np.hsplit(vStackedArray,2)"
      ],
      "metadata": {
        "colab": {
          "base_uri": "https://localhost:8080/"
        },
        "id": "0poWPbAx4Ta1",
        "outputId": "8f567cdc-241c-484f-92da-7119750d7b52"
      },
      "execution_count": 100,
      "outputs": [
        {
          "output_type": "execute_result",
          "data": {
            "text/plain": [
              "[array([[ 1,  2],\n",
              "        [ 5,  6],\n",
              "        [ 9, 10],\n",
              "        [13, 14],\n",
              "        [17, 18],\n",
              "        [21, 22]]),\n",
              " array([[ 3,  4],\n",
              "        [ 7,  8],\n",
              "        [11, 12],\n",
              "        [15, 16],\n",
              "        [19, 20],\n",
              "        [23, 24]])]"
            ]
          },
          "metadata": {},
          "execution_count": 100
        }
      ]
    },
    {
      "cell_type": "code",
      "source": [
        "# Vertical splitting\n",
        "np.vsplit(vStackedArray,2)"
      ],
      "metadata": {
        "colab": {
          "base_uri": "https://localhost:8080/"
        },
        "id": "ojptTF0O9dit",
        "outputId": "3aff5a05-9dc1-4e10-d68e-f38fe1357c5a"
      },
      "execution_count": 101,
      "outputs": [
        {
          "output_type": "execute_result",
          "data": {
            "text/plain": [
              "[array([[ 1,  2,  3,  4],\n",
              "        [ 5,  6,  7,  8],\n",
              "        [ 9, 10, 11, 12]]),\n",
              " array([[13, 14, 15, 16],\n",
              "        [17, 18, 19, 20],\n",
              "        [21, 22, 23, 24]])]"
            ]
          },
          "metadata": {},
          "execution_count": 101
        }
      ]
    },
    {
      "cell_type": "markdown",
      "source": [
        "**Numpy vs Python list**"
      ],
      "metadata": {
        "id": "s2-4y6tcDo4e"
      }
    },
    {
      "cell_type": "code",
      "source": [
        "# speed difference\n",
        "\n",
        "import time\n",
        "intList1 = [i for i in range(10000000)]\n",
        "intList2 = [i for i in range(10000000,20000000)]\n",
        "\n",
        "c = []\n",
        "start = time.time()\n",
        "for i in range(len(intList1)):\n",
        "  c.append(i)\n",
        "\n",
        "print(time.time()-start)"
      ],
      "metadata": {
        "colab": {
          "base_uri": "https://localhost:8080/"
        },
        "id": "vpe0BJWT99IC",
        "outputId": "e9b42126-f6e4-4e0a-9b82-0f534d6c8581"
      },
      "execution_count": 110,
      "outputs": [
        {
          "output_type": "stream",
          "name": "stdout",
          "text": [
            "1.288802146911621\n"
          ]
        }
      ]
    },
    {
      "cell_type": "code",
      "source": [
        "import numpy as np\n",
        "\n",
        "start = time.time()\n",
        "numpyArray1 = np.arange(10000000)\n",
        "numpyArray2 = np.arange(10000000,20000000)\n",
        "\n",
        "c = numpyArray1 + numpyArray2\n",
        "print(time.time()-start)"
      ],
      "metadata": {
        "colab": {
          "base_uri": "https://localhost:8080/"
        },
        "id": "SsMOcfYzFZ3U",
        "outputId": "06551056-ee87-4b2d-db40-e876382e4eb1"
      },
      "execution_count": 111,
      "outputs": [
        {
          "output_type": "stream",
          "name": "stdout",
          "text": [
            "0.1433861255645752\n"
          ]
        }
      ]
    },
    {
      "cell_type": "code",
      "source": [
        "# Memory allocation difference\n",
        "import sys\n",
        "pythonList = [i for i in range(10000000)]\n",
        "sys.getsizeof(pythonList)"
      ],
      "metadata": {
        "colab": {
          "base_uri": "https://localhost:8080/"
        },
        "id": "w0yzu2DTFsEl",
        "outputId": "befddeba-2572-44d4-d5c5-9a16fce460fc"
      },
      "execution_count": 113,
      "outputs": [
        {
          "output_type": "execute_result",
          "data": {
            "text/plain": [
              "89095160"
            ]
          },
          "metadata": {},
          "execution_count": 113
        }
      ]
    },
    {
      "cell_type": "code",
      "source": [
        "numpyList = np.arange(10000000,dtype=np.int32)\n",
        "sys.getsizeof(numpyList)"
      ],
      "metadata": {
        "colab": {
          "base_uri": "https://localhost:8080/"
        },
        "id": "V9zakLItKIZP",
        "outputId": "08658daf-8181-463e-dfb0-51f245cbca72"
      },
      "execution_count": 114,
      "outputs": [
        {
          "output_type": "execute_result",
          "data": {
            "text/plain": [
              "40000112"
            ]
          },
          "metadata": {},
          "execution_count": 114
        }
      ]
    },
    {
      "cell_type": "code",
      "source": [],
      "metadata": {
        "id": "-zx_1E8FKZrj"
      },
      "execution_count": null,
      "outputs": []
    }
  ]
}